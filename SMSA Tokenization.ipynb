{
 "cells": [
  {
   "cell_type": "markdown",
   "id": "d3035032",
   "metadata": {},
   "source": [
    "## Facebook Public Group Post And Comment (Tokenization)"
   ]
  },
  {
   "cell_type": "code",
   "execution_count": 1,
   "id": "2b982fc4",
   "metadata": {},
   "outputs": [
    {
     "name": "stdout",
     "output_type": "stream",
     "text": [
      "Requirement already satisfied: nltk in c:\\users\\dell\\appdata\\local\\programs\\python\\python311\\lib\\site-packages (3.8.1)\n",
      "Requirement already satisfied: click in c:\\users\\dell\\appdata\\local\\programs\\python\\python311\\lib\\site-packages (from nltk) (8.1.7)\n",
      "Requirement already satisfied: joblib in c:\\users\\dell\\appdata\\local\\programs\\python\\python311\\lib\\site-packages (from nltk) (1.2.0)\n",
      "Requirement already satisfied: regex>=2021.8.3 in c:\\users\\dell\\appdata\\local\\programs\\python\\python311\\lib\\site-packages (from nltk) (2023.12.25)\n",
      "Requirement already satisfied: tqdm in c:\\users\\dell\\appdata\\local\\programs\\python\\python311\\lib\\site-packages (from nltk) (4.66.2)\n",
      "Requirement already satisfied: colorama in c:\\users\\dell\\appdata\\local\\programs\\python\\python311\\lib\\site-packages (from click->nltk) (0.4.6)\n"
     ]
    },
    {
     "name": "stderr",
     "output_type": "stream",
     "text": [
      "\n",
      "[notice] A new release of pip available: 22.3 -> 24.0\n",
      "[notice] To update, run: python.exe -m pip install --upgrade pip\n"
     ]
    }
   ],
   "source": [
    "!pip install nltk"
   ]
  },
  {
   "cell_type": "code",
   "execution_count": 2,
   "id": "d3d79d68",
   "metadata": {},
   "outputs": [],
   "source": [
    "import pandas as pd\n",
    "import numpy as np\n",
    "import nltk\n",
    "from nltk.tokenize import TweetTokenizer\n",
    "from nltk import FreqDist\n",
    "import string"
   ]
  },
  {
   "cell_type": "code",
   "execution_count": 3,
   "id": "1338da82",
   "metadata": {
    "scrolled": true
   },
   "outputs": [
    {
     "data": {
      "text/html": [
       "<div>\n",
       "<style scoped>\n",
       "    .dataframe tbody tr th:only-of-type {\n",
       "        vertical-align: middle;\n",
       "    }\n",
       "\n",
       "    .dataframe tbody tr th {\n",
       "        vertical-align: top;\n",
       "    }\n",
       "\n",
       "    .dataframe thead th {\n",
       "        text-align: right;\n",
       "    }\n",
       "</style>\n",
       "<table border=\"1\" class=\"dataframe\">\n",
       "  <thead>\n",
       "    <tr style=\"text-align: right;\">\n",
       "      <th></th>\n",
       "      <th>Post</th>\n",
       "      <th>1Comment</th>\n",
       "      <th>2Comment</th>\n",
       "    </tr>\n",
       "  </thead>\n",
       "  <tbody>\n",
       "    <tr>\n",
       "      <th>0</th>\n",
       "      <td>i feel like i m a burden to everybody bothering people with my problems my existence moving to a different city changing my number have been heavy on my mind</td>\n",
       "      <td>best to talk to a therapist it s too much for family and friends</td>\n",
       "      <td>i hear you i do i want to do the same sometimes but then i watch people and see who they are because i know i have a mental issue and i know my brain lies to me look around you some people really do care maybe go to weekly mind meetings in the uk or groups local to you who all feel the same xxx</td>\n",
       "    </tr>\n",
       "    <tr>\n",
       "      <th>1</th>\n",
       "      <td>this is what i ll be doing on christmas i just do not feel well i just do not have it in me to fight i ve been doing it for years i m just worn out i do hope your christmas will be better</td>\n",
       "      <td>give yourself a break from your negative thoughts this is the day the king is born</td>\n",
       "      <td>same here i know how you feel</td>\n",
       "    </tr>\n",
       "    <tr>\n",
       "      <th>2</th>\n",
       "      <td>bye big hugs blessed be judge me all you want don t care after tonight my spouse thinks he s so wonderful well let s me make it real</td>\n",
       "      <td>i m okay but mentally i m not and i m done putting up with all this i will be okay when i disappear not dead just gone i ve seriously had enough thank you all for caring i do greatly appreciate it more than i can even express</td>\n",
       "      <td>are you ok</td>\n",
       "    </tr>\n",
       "  </tbody>\n",
       "</table>\n",
       "</div>"
      ],
      "text/plain": [
       "                                                                                                                                                                                          Post  \\\n",
       "0                                i feel like i m a burden to everybody bothering people with my problems my existence moving to a different city changing my number have been heavy on my mind   \n",
       "1  this is what i ll be doing on christmas i just do not feel well i just do not have it in me to fight i ve been doing it for years i m just worn out i do hope your christmas will be better   \n",
       "2                                                         bye big hugs blessed be judge me all you want don t care after tonight my spouse thinks he s so wonderful well let s me make it real   \n",
       "\n",
       "                                                                                                                                                                                                                            1Comment  \\\n",
       "0                                                                                                                                                                   best to talk to a therapist it s too much for family and friends   \n",
       "1                                                                                                                                                 give yourself a break from your negative thoughts this is the day the king is born   \n",
       "2  i m okay but mentally i m not and i m done putting up with all this i will be okay when i disappear not dead just gone i ve seriously had enough thank you all for caring i do greatly appreciate it more than i can even express   \n",
       "\n",
       "                                                                                                                                                                                                                                                                                                  2Comment  \n",
       "0  i hear you i do i want to do the same sometimes but then i watch people and see who they are because i know i have a mental issue and i know my brain lies to me look around you some people really do care maybe go to weekly mind meetings in the uk or groups local to you who all feel the same xxx  \n",
       "1                                                                                                                                                                                                                                                                            same here i know how you feel  \n",
       "2                                                                                                                                                                                                                                                                                               are you ok  "
      ]
     },
     "execution_count": 3,
     "metadata": {},
     "output_type": "execute_result"
    }
   ],
   "source": [
    "dataframe = pd.read_csv(\"../../Sample Datasets/clean_smsa_data.csv\")\n",
    "pd.set_option('display.max_colwidth', None)\n",
    "dataframe.head(3)"
   ]
  },
  {
   "cell_type": "code",
   "execution_count": 5,
   "id": "a2e421da",
   "metadata": {},
   "outputs": [],
   "source": [
    "df_clean = dataframe"
   ]
  },
  {
   "cell_type": "code",
   "execution_count": 6,
   "id": "1596b0e0",
   "metadata": {},
   "outputs": [],
   "source": [
    "tokenizer = TweetTokenizer()"
   ]
  },
  {
   "cell_type": "code",
   "execution_count": 8,
   "id": "25e628fc",
   "metadata": {},
   "outputs": [],
   "source": [
    "df_clean['tokens'] = df_clean['Post'].apply(lambda x: tokenizer.tokenize(str(x)))"
   ]
  },
  {
   "cell_type": "code",
   "execution_count": 9,
   "id": "120ecd7f",
   "metadata": {},
   "outputs": [
    {
     "data": {
      "text/html": [
       "<div>\n",
       "<style scoped>\n",
       "    .dataframe tbody tr th:only-of-type {\n",
       "        vertical-align: middle;\n",
       "    }\n",
       "\n",
       "    .dataframe tbody tr th {\n",
       "        vertical-align: top;\n",
       "    }\n",
       "\n",
       "    .dataframe thead th {\n",
       "        text-align: right;\n",
       "    }\n",
       "</style>\n",
       "<table border=\"1\" class=\"dataframe\">\n",
       "  <thead>\n",
       "    <tr style=\"text-align: right;\">\n",
       "      <th></th>\n",
       "      <th>Post</th>\n",
       "      <th>tokens</th>\n",
       "    </tr>\n",
       "  </thead>\n",
       "  <tbody>\n",
       "    <tr>\n",
       "      <th>1500</th>\n",
       "      <td>what support does groups does to people who have mental health issues</td>\n",
       "      <td>[what, support, does, groups, does, to, people, who, have, mental, health, issues]</td>\n",
       "    </tr>\n",
       "    <tr>\n",
       "      <th>1501</th>\n",
       "      <td>i ve just joined i feel alone at times</td>\n",
       "      <td>[i, ve, just, joined, i, feel, alone, at, times]</td>\n",
       "    </tr>\n",
       "    <tr>\n",
       "      <th>1502</th>\n",
       "      <td>i m just feeling really sad and bored we mad some kn roads jnto tidying our bungalow and we filled three black bags and put out two recycling bags i feel on the verge of tears there us so much left to do there must be more to life than sitting in front of the tv i knit nothing feels enough</td>\n",
       "      <td>[i, m, just, feeling, really, sad, and, bored, we, mad, some, kn, roads, jnto, tidying, our, bungalow, and, we, filled, three, black, bags, and, put, out, two, recycling, bags, i, feel, on, the, verge, of, tears, there, us, so, much, left, to, do, there, must, be, more, to, life, than, sitting, in, front, of, the, tv, i, knit, nothing, feels, enough]</td>\n",
       "    </tr>\n",
       "    <tr>\n",
       "      <th>1503</th>\n",
       "      <td>its been a while since i ve been on here i started feeling ok and walking to help with my mentally but last few days i ve been struggling and now i m at the point my brain won t shut off all i want to do is cry and pretend i don t exist i ve got a holiday booked for july so i have something to look forward to saving up and everything but i dont k ow how to deal with my emotions right now and i juat wanna cry</td>\n",
       "      <td>[its, been, a, while, since, i, ve, been, on, here, i, started, feeling, ok, and, walking, to, help, with, my, mentally, but, last, few, days, i, ve, been, struggling, and, now, i, m, at, the, point, my, brain, won, t, shut, off, all, i, want, to, do, is, cry, and, pretend, i, don, t, exist, i, ve, got, a, holiday, booked, for, july, so, i, have, something, to, look, forward, to, saving, up, and, everything, but, i, dont, k, ow, how, to, deal, with, my, emotions, right, now, and, i, juat, wanna, cry]</td>\n",
       "    </tr>\n",
       "    <tr>\n",
       "      <th>1504</th>\n",
       "      <td>just want to wish everybody the very best at this time today is the time i have realised that i have wasted my life doing things and looking after others rather than myself i have really ran out of time for me to get good at something to be proud of spent alot of time looking after family today on christmas day was in bed and dinner was a ham sandwich looking after mom i am pulled in all directions but do not go anywhere i don t want as should have gone in when i was really ill now o clock at night seems late only good friends no relationship since my divorce over years ago not even a date i am socially lost can t talk to new people and what i is the point if i feel guilty if not looking after family i do not know what to do don t tell people you will get over mental health i have had it from and now i am a loser never a winner</td>\n",
       "      <td>[just, want, to, wish, everybody, the, very, best, at, this, time, today, is, the, time, i, have, realised, that, i, have, wasted, my, life, doing, things, and, looking, after, others, rather, than, myself, i, have, really, ran, out, of, time, for, me, to, get, good, at, something, to, be, proud, of, spent, alot, of, time, looking, after, family, today, on, christmas, day, was, in, bed, and, dinner, was, a, ham, sandwich, looking, after, mom, i, am, pulled, in, all, directions, but, do, not, go, anywhere, i, don, t, want, as, should, have, gone, in, when, i, was, really, ill, now, ...]</td>\n",
       "    </tr>\n",
       "    <tr>\n",
       "      <th>...</th>\n",
       "      <td>...</td>\n",
       "      <td>...</td>\n",
       "    </tr>\n",
       "    <tr>\n",
       "      <th>2495</th>\n",
       "      <td>i just want to say to all of you i know things are tough and we are all struggling in our own ways but i personally appreciate you your kind words and thoughts mean a ton and has helped me so much i can vent and let out what s hurting and of you have such compassion and understanding and with all the crap going on i just want you to know at the end of the day just being heard and having complete strangers care has saved me so many times especially when i struggle to pull myself out of this funk i get in so thank you much love respect big hugs and i m here if anyone needs to vent or have some sort of emotional support i m here to listen and show you what so many have shown me no judgement just understanding big hugs blessed be</td>\n",
       "      <td>[i, just, want, to, say, to, all, of, you, i, know, things, are, tough, and, we, are, all, struggling, in, our, own, ways, but, i, personally, appreciate, you, your, kind, words, and, thoughts, mean, a, ton, and, has, helped, me, so, much, i, can, vent, and, let, out, what, s, hurting, and, of, you, have, such, compassion, and, understanding, and, with, all, the, crap, going, on, i, just, want, you, to, know, at, the, end, of, the, day, just, being, heard, and, having, complete, strangers, care, has, saved, me, so, many, times, especially, when, i, struggle, to, pull, myself, out, ...]</td>\n",
       "    </tr>\n",
       "    <tr>\n",
       "      <th>2496</th>\n",
       "      <td>i have been so perplexed lately a long time missing young man was found mentally sick in the far north nigeria while his mum is in the south he was in school doing a diploma and that was the last they heard of him until last week that is after a decade that is to say the young man has been roaming for over years he was concluded dead when nothing was heard after many years the father is late and the mum is just managing life if anyone knows any association that can help this sick guy get well and get united to his mother pls show compassion he hails from the south while the information has it that he is being seen at a particular spot in jos town</td>\n",
       "      <td>[i, have, been, so, perplexed, lately, a, long, time, missing, young, man, was, found, mentally, sick, in, the, far, north, nigeria, while, his, mum, is, in, the, south, he, was, in, school, doing, a, diploma, and, that, was, the, last, they, heard, of, him, until, last, week, that, is, after, a, decade, that, is, to, say, the, young, man, has, been, roaming, for, over, years, he, was, concluded, dead, when, nothing, was, heard, after, many, years, the, father, is, late, and, the, mum, is, just, managing, life, if, anyone, knows, any, association, that, can, help, this, sick, guy, get, well, ...]</td>\n",
       "    </tr>\n",
       "    <tr>\n",
       "      <th>2497</th>\n",
       "      <td>is there anyone in the uk possibly closer in wales where i live need someone who suffers who s experienced it all that understands as i m suffering so much on my own get no support or love and i m tired of no one understanding me being so alone don t have family really need someone who understands and must be atleast someone in the uk and someone who won t abandon me i m by the way live in wales faceexhaling sneezingface facewithheadbandage</td>\n",
       "      <td>[is, there, anyone, in, the, uk, possibly, closer, in, wales, where, i, live, need, someone, who, suffers, who, s, experienced, it, all, that, understands, as, i, m, suffering, so, much, on, my, own, get, no, support, or, love, and, i, m, tired, of, no, one, understanding, me, being, so, alone, don, t, have, family, really, need, someone, who, understands, and, must, be, atleast, someone, in, the, uk, and, someone, who, won, t, abandon, me, i, m, by, the, way, live, in, wales, faceexhaling, sneezingface, facewithheadbandage]</td>\n",
       "    </tr>\n",
       "    <tr>\n",
       "      <th>2498</th>\n",
       "      <td>does anyone have these feelings while riding in a car you fight so hard not to open your door i have to lock mine most times i get in a car it doesn t happen due to any form of panic at that moment i always feel that way i end up having to sit on my hands or try so hard to distract myself</td>\n",
       "      <td>[does, anyone, have, these, feelings, while, riding, in, a, car, you, fight, so, hard, not, to, open, your, door, i, have, to, lock, mine, most, times, i, get, in, a, car, it, doesn, t, happen, due, to, any, form, of, panic, at, that, moment, i, always, feel, that, way, i, end, up, having, to, sit, on, my, hands, or, try, so, hard, to, distract, myself]</td>\n",
       "    </tr>\n",
       "    <tr>\n",
       "      <th>2499</th>\n",
       "      <td>wheeler lisa i m calling you out for telling me not to complain and saying i obviously like it lady do us all a favor and get gone we are not here to suit your needs we are here to vent and help each other with emotional support which you obviously are perfect and don t need that so bye bye go somewhere else with your rude comments</td>\n",
       "      <td>[wheeler, lisa, i, m, calling, you, out, for, telling, me, not, to, complain, and, saying, i, obviously, like, it, lady, do, us, all, a, favor, and, get, gone, we, are, not, here, to, suit, your, needs, we, are, here, to, vent, and, help, each, other, with, emotional, support, which, you, obviously, are, perfect, and, don, t, need, that, so, bye, bye, go, somewhere, else, with, your, rude, comments]</td>\n",
       "    </tr>\n",
       "  </tbody>\n",
       "</table>\n",
       "<p>1000 rows × 2 columns</p>\n",
       "</div>"
      ],
      "text/plain": [
       "                                                                                                                                                                                                                                                                                                                                                                                                                                                                                                                                                                                                                                                                                                                                                                                                                                                                         Post  \\\n",
       "1500                                                                                                                                                                                                                                                                                                                                                                                                                                                                                                                                                                                                                                                                                                                                                                                                    what support does groups does to people who have mental health issues   \n",
       "1501                                                                                                                                                                                                                                                                                                                                                                                                                                                                                                                                                                                                                                                                                                                                                                                                                                   i ve just joined i feel alone at times   \n",
       "1502                                                                                                                                                                                                                                                                                                                                                                                                                                                                                                                                                                       i m just feeling really sad and bored we mad some kn roads jnto tidying our bungalow and we filled three black bags and put out two recycling bags i feel on the verge of tears there us so much left to do there must be more to life than sitting in front of the tv i knit nothing feels enough   \n",
       "1503                                                                                                                                                                                                                                                                                                                                                                                                                                              its been a while since i ve been on here i started feeling ok and walking to help with my mentally but last few days i ve been struggling and now i m at the point my brain won t shut off all i want to do is cry and pretend i don t exist i ve got a holiday booked for july so i have something to look forward to saving up and everything but i dont k ow how to deal with my emotions right now and i juat wanna cry   \n",
       "1504  just want to wish everybody the very best at this time today is the time i have realised that i have wasted my life doing things and looking after others rather than myself i have really ran out of time for me to get good at something to be proud of spent alot of time looking after family today on christmas day was in bed and dinner was a ham sandwich looking after mom i am pulled in all directions but do not go anywhere i don t want as should have gone in when i was really ill now o clock at night seems late only good friends no relationship since my divorce over years ago not even a date i am socially lost can t talk to new people and what i is the point if i feel guilty if not looking after family i do not know what to do don t tell people you will get over mental health i have had it from and now i am a loser never a winner   \n",
       "...                                                                                                                                                                                                                                                                                                                                                                                                                                                                                                                                                                                                                                                                                                                                                                                                                                                                       ...   \n",
       "2495                                                                                                          i just want to say to all of you i know things are tough and we are all struggling in our own ways but i personally appreciate you your kind words and thoughts mean a ton and has helped me so much i can vent and let out what s hurting and of you have such compassion and understanding and with all the crap going on i just want you to know at the end of the day just being heard and having complete strangers care has saved me so many times especially when i struggle to pull myself out of this funk i get in so thank you much love respect big hugs and i m here if anyone needs to vent or have some sort of emotional support i m here to listen and show you what so many have shown me no judgement just understanding big hugs blessed be   \n",
       "2496                                                                                                                                                                                           i have been so perplexed lately a long time missing young man was found mentally sick in the far north nigeria while his mum is in the south he was in school doing a diploma and that was the last they heard of him until last week that is after a decade that is to say the young man has been roaming for over years he was concluded dead when nothing was heard after many years the father is late and the mum is just managing life if anyone knows any association that can help this sick guy get well and get united to his mother pls show compassion he hails from the south while the information has it that he is being seen at a particular spot in jos town   \n",
       "2497                                                                                                                                                                                                                                                                                                                                                                                                             is there anyone in the uk possibly closer in wales where i live need someone who suffers who s experienced it all that understands as i m suffering so much on my own get no support or love and i m tired of no one understanding me being so alone don t have family really need someone who understands and must be atleast someone in the uk and someone who won t abandon me i m by the way live in wales faceexhaling sneezingface facewithheadbandage   \n",
       "2498                                                                                                                                                                                                                                                                                                                                                                                                                                                                                                                                                                        does anyone have these feelings while riding in a car you fight so hard not to open your door i have to lock mine most times i get in a car it doesn t happen due to any form of panic at that moment i always feel that way i end up having to sit on my hands or try so hard to distract myself   \n",
       "2499                                                                                                                                                                                                                                                                                                                                                                                                                                                                                                                            wheeler lisa i m calling you out for telling me not to complain and saying i obviously like it lady do us all a favor and get gone we are not here to suit your needs we are here to vent and help each other with emotional support which you obviously are perfect and don t need that so bye bye go somewhere else with your rude comments   \n",
       "\n",
       "                                                                                                                                                                                                                                                                                                                                                                                                                                                                                                                                                                                                                           tokens  \n",
       "1500                                                                                                                                                                                                                                                                                                                                                                                                                                                                                                                                           [what, support, does, groups, does, to, people, who, have, mental, health, issues]  \n",
       "1501                                                                                                                                                                                                                                                                                                                                                                                                                                                                                                                                                                             [i, ve, just, joined, i, feel, alone, at, times]  \n",
       "1502                                                                                                                                                                                                                                                             [i, m, just, feeling, really, sad, and, bored, we, mad, some, kn, roads, jnto, tidying, our, bungalow, and, we, filled, three, black, bags, and, put, out, two, recycling, bags, i, feel, on, the, verge, of, tears, there, us, so, much, left, to, do, there, must, be, more, to, life, than, sitting, in, front, of, the, tv, i, knit, nothing, feels, enough]  \n",
       "1503                                                                                                    [its, been, a, while, since, i, ve, been, on, here, i, started, feeling, ok, and, walking, to, help, with, my, mentally, but, last, few, days, i, ve, been, struggling, and, now, i, m, at, the, point, my, brain, won, t, shut, off, all, i, want, to, do, is, cry, and, pretend, i, don, t, exist, i, ve, got, a, holiday, booked, for, july, so, i, have, something, to, look, forward, to, saving, up, and, everything, but, i, dont, k, ow, how, to, deal, with, my, emotions, right, now, and, i, juat, wanna, cry]  \n",
       "1504             [just, want, to, wish, everybody, the, very, best, at, this, time, today, is, the, time, i, have, realised, that, i, have, wasted, my, life, doing, things, and, looking, after, others, rather, than, myself, i, have, really, ran, out, of, time, for, me, to, get, good, at, something, to, be, proud, of, spent, alot, of, time, looking, after, family, today, on, christmas, day, was, in, bed, and, dinner, was, a, ham, sandwich, looking, after, mom, i, am, pulled, in, all, directions, but, do, not, go, anywhere, i, don, t, want, as, should, have, gone, in, when, i, was, really, ill, now, ...]  \n",
       "...                                                                                                                                                                                                                                                                                                                                                                                                                                                                                                                                                                                                                           ...  \n",
       "2495             [i, just, want, to, say, to, all, of, you, i, know, things, are, tough, and, we, are, all, struggling, in, our, own, ways, but, i, personally, appreciate, you, your, kind, words, and, thoughts, mean, a, ton, and, has, helped, me, so, much, i, can, vent, and, let, out, what, s, hurting, and, of, you, have, such, compassion, and, understanding, and, with, all, the, crap, going, on, i, just, want, you, to, know, at, the, end, of, the, day, just, being, heard, and, having, complete, strangers, care, has, saved, me, so, many, times, especially, when, i, struggle, to, pull, myself, out, ...]  \n",
       "2496  [i, have, been, so, perplexed, lately, a, long, time, missing, young, man, was, found, mentally, sick, in, the, far, north, nigeria, while, his, mum, is, in, the, south, he, was, in, school, doing, a, diploma, and, that, was, the, last, they, heard, of, him, until, last, week, that, is, after, a, decade, that, is, to, say, the, young, man, has, been, roaming, for, over, years, he, was, concluded, dead, when, nothing, was, heard, after, many, years, the, father, is, late, and, the, mum, is, just, managing, life, if, anyone, knows, any, association, that, can, help, this, sick, guy, get, well, ...]  \n",
       "2497                                                                           [is, there, anyone, in, the, uk, possibly, closer, in, wales, where, i, live, need, someone, who, suffers, who, s, experienced, it, all, that, understands, as, i, m, suffering, so, much, on, my, own, get, no, support, or, love, and, i, m, tired, of, no, one, understanding, me, being, so, alone, don, t, have, family, really, need, someone, who, understands, and, must, be, atleast, someone, in, the, uk, and, someone, who, won, t, abandon, me, i, m, by, the, way, live, in, wales, faceexhaling, sneezingface, facewithheadbandage]  \n",
       "2498                                                                                                                                                                                                                                                          [does, anyone, have, these, feelings, while, riding, in, a, car, you, fight, so, hard, not, to, open, your, door, i, have, to, lock, mine, most, times, i, get, in, a, car, it, doesn, t, happen, due, to, any, form, of, panic, at, that, moment, i, always, feel, that, way, i, end, up, having, to, sit, on, my, hands, or, try, so, hard, to, distract, myself]  \n",
       "2499                                                                                                                                                                                                           [wheeler, lisa, i, m, calling, you, out, for, telling, me, not, to, complain, and, saying, i, obviously, like, it, lady, do, us, all, a, favor, and, get, gone, we, are, not, here, to, suit, your, needs, we, are, here, to, vent, and, help, each, other, with, emotional, support, which, you, obviously, are, perfect, and, don, t, need, that, so, bye, bye, go, somewhere, else, with, your, rude, comments]  \n",
       "\n",
       "[1000 rows x 2 columns]"
      ]
     },
     "execution_count": 9,
     "metadata": {},
     "output_type": "execute_result"
    }
   ],
   "source": [
    "df_clean.iloc[1500:2500][['Post', 'tokens']]"
   ]
  },
  {
   "cell_type": "code",
   "execution_count": 15,
   "id": "f6eefbac",
   "metadata": {},
   "outputs": [],
   "source": [
    "def remove_punctuation(word_list, punctuation_list):\n",
    "    return [word for word in word_list if word not in punctuation_list]\n",
    "\n",
    "punctuation_list = list(string.punctuation)\n",
    "\n",
    "df_clean['tokens'] = df_clean['tokens'].apply(lambda x: remove_punctuation(x, punctuation_list))"
   ]
  },
  {
   "cell_type": "code",
   "execution_count": 18,
   "id": "0e9419bb",
   "metadata": {},
   "outputs": [],
   "source": [
    "corpus_tokens = df_clean['tokens'].sum()\n",
    "#print(corpus_tokens)"
   ]
  },
  {
   "cell_type": "code",
   "execution_count": 19,
   "id": "318bd25b",
   "metadata": {},
   "outputs": [
    {
     "data": {
      "text/plain": [
       "10678"
      ]
     },
     "execution_count": 19,
     "metadata": {},
     "output_type": "execute_result"
    }
   ],
   "source": [
    "#check frequency distribution\n",
    "freq_dist_check = FreqDist(corpus_tokens)\n",
    "len(freq_dist_check)"
   ]
  },
  {
   "cell_type": "code",
   "execution_count": 20,
   "id": "a9d2cb0c",
   "metadata": {},
   "outputs": [
    {
     "data": {
      "text/plain": [
       "4152"
      ]
     },
     "execution_count": 20,
     "metadata": {},
     "output_type": "execute_result"
    }
   ],
   "source": [
    "three_time_appear_words = [word for word in freq_dist_check.most_common() if word[1] >= 3]\n",
    "len(three_time_appear_words)"
   ]
  },
  {
   "cell_type": "code",
   "execution_count": 21,
   "id": "9cced611",
   "metadata": {},
   "outputs": [
    {
     "data": {
      "text/plain": [
       "[('i', 14064),\n",
       " ('to', 7492),\n",
       " ('and', 6819),\n",
       " ('the', 4676),\n",
       " ('my', 4505),\n",
       " ('a', 4194),\n",
       " ('it', 3127),\n",
       " ('me', 2760),\n",
       " ('of', 2741),\n",
       " ('t', 2548),\n",
       " ('in', 2422),\n",
       " ('is', 2370),\n",
       " ('m', 2337),\n",
       " ('for', 2302),\n",
       " ('that', 2170)]"
      ]
     },
     "execution_count": 21,
     "metadata": {},
     "output_type": "execute_result"
    }
   ],
   "source": [
    "three_time_appear_words[:15]\n",
    "#can remove stop words"
   ]
  },
  {
   "cell_type": "code",
   "execution_count": 22,
   "id": "1a11d42e",
   "metadata": {},
   "outputs": [],
   "source": [
    "#store & save to a CSV file\n",
    "df_clean.to_csv('../../Sample Datasets/tokenized_smsa_data.csv', index = False)"
   ]
  }
 ],
 "metadata": {
  "kernelspec": {
   "display_name": "Python 3 (ipykernel)",
   "language": "python",
   "name": "python3"
  },
  "language_info": {
   "codemirror_mode": {
    "name": "ipython",
    "version": 3
   },
   "file_extension": ".py",
   "mimetype": "text/x-python",
   "name": "python",
   "nbconvert_exporter": "python",
   "pygments_lexer": "ipython3",
   "version": "3.11.0"
  }
 },
 "nbformat": 4,
 "nbformat_minor": 5
}
