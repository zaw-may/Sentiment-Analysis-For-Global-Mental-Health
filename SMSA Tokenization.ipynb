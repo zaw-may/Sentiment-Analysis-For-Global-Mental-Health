{
 "cells": [
  {
   "cell_type": "markdown",
   "id": "d3035032",
   "metadata": {},
   "source": [
    "## Facebook Public Group Post And Comment (Tokenization)"
   ]
  },
  {
   "cell_type": "code",
   "execution_count": 1,
   "id": "2b982fc4",
   "metadata": {},
   "outputs": [
    {
     "name": "stdout",
     "output_type": "stream",
     "text": [
      "Requirement already satisfied: nltk in c:\\users\\dell\\appdata\\local\\programs\\python\\python311\\lib\\site-packages (3.8.1)\n",
      "Requirement already satisfied: click in c:\\users\\dell\\appdata\\local\\programs\\python\\python311\\lib\\site-packages (from nltk) (8.1.7)\n",
      "Requirement already satisfied: joblib in c:\\users\\dell\\appdata\\local\\programs\\python\\python311\\lib\\site-packages (from nltk) (1.2.0)\n",
      "Requirement already satisfied: regex>=2021.8.3 in c:\\users\\dell\\appdata\\local\\programs\\python\\python311\\lib\\site-packages (from nltk) (2023.12.25)\n",
      "Requirement already satisfied: tqdm in c:\\users\\dell\\appdata\\local\\programs\\python\\python311\\lib\\site-packages (from nltk) (4.66.2)\n",
      "Requirement already satisfied: colorama in c:\\users\\dell\\appdata\\local\\programs\\python\\python311\\lib\\site-packages (from click->nltk) (0.4.6)\n"
     ]
    },
    {
     "name": "stderr",
     "output_type": "stream",
     "text": [
      "\n",
      "[notice] A new release of pip available: 22.3 -> 24.0\n",
      "[notice] To update, run: python.exe -m pip install --upgrade pip\n"
     ]
    }
   ],
   "source": [
    "!pip install nltk"
   ]
  },
  {
   "cell_type": "code",
   "execution_count": 2,
   "id": "d3d79d68",
   "metadata": {},
   "outputs": [],
   "source": [
    "import pandas as pd\n",
    "import numpy as np\n",
    "import nltk\n",
    "from nltk.tokenize import TweetTokenizer\n",
    "from nltk import FreqDist\n",
    "import string"
   ]
  },
  {
   "cell_type": "code",
   "execution_count": 3,
   "id": "1338da82",
   "metadata": {
    "scrolled": true
   },
   "outputs": [
    {
     "data": {
      "text/html": [
       "<div>\n",
       "<style scoped>\n",
       "    .dataframe tbody tr th:only-of-type {\n",
       "        vertical-align: middle;\n",
       "    }\n",
       "\n",
       "    .dataframe tbody tr th {\n",
       "        vertical-align: top;\n",
       "    }\n",
       "\n",
       "    .dataframe thead th {\n",
       "        text-align: right;\n",
       "    }\n",
       "</style>\n",
       "<table border=\"1\" class=\"dataframe\">\n",
       "  <thead>\n",
       "    <tr style=\"text-align: right;\">\n",
       "      <th></th>\n",
       "      <th>Post</th>\n",
       "      <th>1Comment</th>\n",
       "      <th>2Comment</th>\n",
       "    </tr>\n",
       "  </thead>\n",
       "  <tbody>\n",
       "    <tr>\n",
       "      <th>0</th>\n",
       "      <td>i feel like i m a burden to everybody bothering people with my problems my existence moving to a different city changing my number have been heavy on my mind</td>\n",
       "      <td>best to talk to a therapist it s too much for family and friends</td>\n",
       "      <td>i hear you i do i want to do the same sometimes but then i watch people and see who they are because i know i have a mental issue and i know my brain lies to me look around you some people really do care maybe go to weekly mind meetings in the uk or groups local to you who all feel the same xxx</td>\n",
       "    </tr>\n",
       "    <tr>\n",
       "      <th>1</th>\n",
       "      <td>this is what i ll be doing on christmas i just do not feel well i just do not have it in me to fight i ve been doing it for years i m just worn out i do hope your christmas will be better</td>\n",
       "      <td>give yourself a break from your negative thoughts this is the day the king is born</td>\n",
       "      <td>same here i know how you feel</td>\n",
       "    </tr>\n",
       "    <tr>\n",
       "      <th>2</th>\n",
       "      <td>bye big hugs blessed be judge me all you want don t care after tonight my spouse thinks he s so wonderful well let s me make it real</td>\n",
       "      <td>i m okay but mentally i m not and i m done putting up with all this i will be okay when i disappear not dead just gone i ve seriously had enough thank you all for caring i do greatly appreciate it more than i can even express</td>\n",
       "      <td>are you ok</td>\n",
       "    </tr>\n",
       "  </tbody>\n",
       "</table>\n",
       "</div>"
      ],
      "text/plain": [
       "                                                                                                                                                                                          Post  \\\n",
       "0                                i feel like i m a burden to everybody bothering people with my problems my existence moving to a different city changing my number have been heavy on my mind   \n",
       "1  this is what i ll be doing on christmas i just do not feel well i just do not have it in me to fight i ve been doing it for years i m just worn out i do hope your christmas will be better   \n",
       "2                                                         bye big hugs blessed be judge me all you want don t care after tonight my spouse thinks he s so wonderful well let s me make it real   \n",
       "\n",
       "                                                                                                                                                                                                                            1Comment  \\\n",
       "0                                                                                                                                                                   best to talk to a therapist it s too much for family and friends   \n",
       "1                                                                                                                                                 give yourself a break from your negative thoughts this is the day the king is born   \n",
       "2  i m okay but mentally i m not and i m done putting up with all this i will be okay when i disappear not dead just gone i ve seriously had enough thank you all for caring i do greatly appreciate it more than i can even express   \n",
       "\n",
       "                                                                                                                                                                                                                                                                                                  2Comment  \n",
       "0  i hear you i do i want to do the same sometimes but then i watch people and see who they are because i know i have a mental issue and i know my brain lies to me look around you some people really do care maybe go to weekly mind meetings in the uk or groups local to you who all feel the same xxx  \n",
       "1                                                                                                                                                                                                                                                                            same here i know how you feel  \n",
       "2                                                                                                                                                                                                                                                                                               are you ok  "
      ]
     },
     "execution_count": 3,
     "metadata": {},
     "output_type": "execute_result"
    }
   ],
   "source": [
    "dataframe = pd.read_csv(\"../../Sample Datasets/clean_smsa_data.csv\")\n",
    "pd.set_option('display.max_colwidth', None)\n",
    "dataframe.head(3)"
   ]
  },
  {
   "cell_type": "code",
   "execution_count": 5,
   "id": "a2e421da",
   "metadata": {},
   "outputs": [],
   "source": [
    "df_clean = dataframe"
   ]
  },
  {
   "cell_type": "code",
   "execution_count": 6,
   "id": "1596b0e0",
   "metadata": {},
   "outputs": [],
   "source": [
    "tokenizer = TweetTokenizer()"
   ]
  },
  {
   "cell_type": "code",
   "execution_count": 8,
   "id": "25e628fc",
   "metadata": {},
   "outputs": [],
   "source": [
    "df_clean['tokens'] = df_clean['Post'].apply(lambda x: tokenizer.tokenize(str(x)))"
   ]
  },
  {
   "cell_type": "code",
   "execution_count": 26,
   "id": "120ecd7f",
   "metadata": {},
   "outputs": [
    {
     "data": {
      "text/html": [
       "<div>\n",
       "<style scoped>\n",
       "    .dataframe tbody tr th:only-of-type {\n",
       "        vertical-align: middle;\n",
       "    }\n",
       "\n",
       "    .dataframe tbody tr th {\n",
       "        vertical-align: top;\n",
       "    }\n",
       "\n",
       "    .dataframe thead th {\n",
       "        text-align: right;\n",
       "    }\n",
       "</style>\n",
       "<table border=\"1\" class=\"dataframe\">\n",
       "  <thead>\n",
       "    <tr style=\"text-align: right;\">\n",
       "      <th></th>\n",
       "      <th>Post</th>\n",
       "      <th>1Comment</th>\n",
       "      <th>2Comment</th>\n",
       "      <th>tokens</th>\n",
       "    </tr>\n",
       "  </thead>\n",
       "  <tbody>\n",
       "    <tr>\n",
       "      <th>3118</th>\n",
       "      <td>sparklingheart</td>\n",
       "      <td>sparklingheart</td>\n",
       "      <td>NaN</td>\n",
       "      <td>[sparklingheart]</td>\n",
       "    </tr>\n",
       "    <tr>\n",
       "      <th>3119</th>\n",
       "      <td>things your adhd child would tell you if he could i m trying way harder than you ll ever know even though it doesn t seem like it to you i really truly am criticizing me or getting angry at me that my brain doesn t work better doesn t help me it makes me hate myself even more i m painfully aware of all the areas that i m not measuring up instead of making a big deal about my shortcomings try to find ways to help me an accommodation isn t the same as enabling if you help me where i m genuinely struggling i m going to be grateful don t assume that i m manipulating you i m not doing this to you it s not something i am doing on purpose if you think it s hard to live with me imagine trying to live inside a body that won t do what you want it to do my brain doesn t work right but i don t know how to tell you that it makes me angry and unkind but i m not trying to be that way when i m being horrible what i really need is for you to tell me you ll love me no matter what and maybe hug me too i probably believe that i m unlovable so prove me wrong i know that my lack of motivation is frustrating but pushing harder doesn t help me do better my anger and frustration is a result of my brain not processing properly when i m overwhelmed and freaking out don t escalate by freaking out or getting angry too i need you to be calm and show me that everything s going to be fine even when i feel like it s not if i get overwhelmed don t expect me to sort out the problem all by myself the part of my brain the controls regulation doesn t work properly that s why i need your help to regulate don t try to break me of things that you see as weaknesses my sensitivity as a child means i ll be compassionate as an adult my stubbornness as a child means i ll be independent and assertive as an adult instead of squashing these characteristics channel them toward something good that can benefit me when i m older don t view me as something that needs fixed or toughened up don t be afraid of labeling me a label gives me answers and help if my condition is serious enough to need to be diagnosed you can guarantee that i ve noticed something s wrong and i m wondering why i m different too unless you tell me what s going on i m likely to grow up angry and confused about why everyone has it all together and i don t a label means i can get help it gives me answers and vindication i have a real actual medical condition in my brain it s just as real as if i had type diabetes just like diabetes i need help to deal with the condition no one tells someone with type diabetes that they are lazy if they re tired because their blood sugar is low they understand that it s part of the condition please please please learn about my condition and don t blame me for things that are out of my control just like leaving type diabetes untreated results in serious complications and even death untreated adhd can lead to serious complications potentially including death thankfully there are many ways to treat adhd and medication isn t the only way my frontal lobe is developing behind normal please understand this and don t put me in situations i m not ready to handle if you give me responsibility that s beyond my developmental age don t be angry with me that i do poorly that s setting me up for failure and that s just cruel stop expecting me to be normal i can t be not for all my trying until you accept that i ll always be a failure in your eyes and i ll always view myself as not good enough you have the power to make me miserable by how you treat me remember to treat me with love and grace treat me how you would want to be treated if you were struggling with a problem in your brain i may make myself miserable sometimes but don t add to that by treating me poorly when in doubt be kind believe me i need your kindness</td>\n",
       "      <td>love this well written</td>\n",
       "      <td>loudlycryingface loudlycryingface</td>\n",
       "      <td>[things, your, adhd, child, would, tell, you, if, he, could, i, m, trying, way, harder, than, you, ll, ever, know, even, though, it, doesn, t, seem, like, it, to, you, i, really, truly, am, criticizing, me, or, getting, angry, at, me, that, my, brain, doesn, t, work, better, doesn, t, help, me, it, makes, me, hate, myself, even, more, i, m, painfully, aware, of, all, the, areas, that, i, m, not, measuring, up, instead, of, making, a, big, deal, about, my, shortcomings, try, to, find, ways, to, help, me, an, accommodation, isn, t, the, same, as, enabling, if, you, help, ...]</td>\n",
       "    </tr>\n",
       "  </tbody>\n",
       "</table>\n",
       "</div>"
      ],
      "text/plain": [
       "                                                                                                                                                                                                                                                                                                                                                                                                                                                                                                                                                                                                                                                                                                                                                                                                                                                                                                                                                                                                                                                                                                                                                                                                                                                                                                                                                                                                                                                                                                                                                                                                                                                                                                                                                                                                                                                                                                                                                                                                                                                                                                                                                                                                                                                                                                                                                                                                                                                                                                                                                                                                                                                                                                                                                                                                                                                                                                                                                                                                                                                                                                                                                                                                                                                                                                                                                                                                                                                                                                                                                                                                                                                                                                                                                                                                                                                                                                                                                                               Post  \\\n",
       "3118                                                                                                                                                                                                                                                                                                                                                                                                                                                                                                                                                                                                                                                                                                                                                                                                                                                                                                                                                                                                                                                                                                                                                                                                                                                                                                                                                                                                                                                                                                                                                                                                                                                                                                                                                                                                                                                                                                                                                                                                                                                                                                                                                                                                                                                                                                                                                                                                                                                                                                                                                                                                                                                                                                                                                                                                                                                                                                                                                                                                                                                                                                                                                                                                                                                                                                                                                                                                                                                                                                                                                                                                                                                                                                                                                                                                                                                                                                                                                                 sparklingheart   \n",
       "3119  things your adhd child would tell you if he could i m trying way harder than you ll ever know even though it doesn t seem like it to you i really truly am criticizing me or getting angry at me that my brain doesn t work better doesn t help me it makes me hate myself even more i m painfully aware of all the areas that i m not measuring up instead of making a big deal about my shortcomings try to find ways to help me an accommodation isn t the same as enabling if you help me where i m genuinely struggling i m going to be grateful don t assume that i m manipulating you i m not doing this to you it s not something i am doing on purpose if you think it s hard to live with me imagine trying to live inside a body that won t do what you want it to do my brain doesn t work right but i don t know how to tell you that it makes me angry and unkind but i m not trying to be that way when i m being horrible what i really need is for you to tell me you ll love me no matter what and maybe hug me too i probably believe that i m unlovable so prove me wrong i know that my lack of motivation is frustrating but pushing harder doesn t help me do better my anger and frustration is a result of my brain not processing properly when i m overwhelmed and freaking out don t escalate by freaking out or getting angry too i need you to be calm and show me that everything s going to be fine even when i feel like it s not if i get overwhelmed don t expect me to sort out the problem all by myself the part of my brain the controls regulation doesn t work properly that s why i need your help to regulate don t try to break me of things that you see as weaknesses my sensitivity as a child means i ll be compassionate as an adult my stubbornness as a child means i ll be independent and assertive as an adult instead of squashing these characteristics channel them toward something good that can benefit me when i m older don t view me as something that needs fixed or toughened up don t be afraid of labeling me a label gives me answers and help if my condition is serious enough to need to be diagnosed you can guarantee that i ve noticed something s wrong and i m wondering why i m different too unless you tell me what s going on i m likely to grow up angry and confused about why everyone has it all together and i don t a label means i can get help it gives me answers and vindication i have a real actual medical condition in my brain it s just as real as if i had type diabetes just like diabetes i need help to deal with the condition no one tells someone with type diabetes that they are lazy if they re tired because their blood sugar is low they understand that it s part of the condition please please please learn about my condition and don t blame me for things that are out of my control just like leaving type diabetes untreated results in serious complications and even death untreated adhd can lead to serious complications potentially including death thankfully there are many ways to treat adhd and medication isn t the only way my frontal lobe is developing behind normal please understand this and don t put me in situations i m not ready to handle if you give me responsibility that s beyond my developmental age don t be angry with me that i do poorly that s setting me up for failure and that s just cruel stop expecting me to be normal i can t be not for all my trying until you accept that i ll always be a failure in your eyes and i ll always view myself as not good enough you have the power to make me miserable by how you treat me remember to treat me with love and grace treat me how you would want to be treated if you were struggling with a problem in your brain i may make myself miserable sometimes but don t add to that by treating me poorly when in doubt be kind believe me i need your kindness   \n",
       "\n",
       "                    1Comment                           2Comment  \\\n",
       "3118          sparklingheart                                NaN   \n",
       "3119  love this well written  loudlycryingface loudlycryingface   \n",
       "\n",
       "                                                                                                                                                                                                                                                                                                                                                                                                                                                                                                                                                                                                    tokens  \n",
       "3118                                                                                                                                                                                                                                                                                                                                                                                                                                                                                                                                                                                      [sparklingheart]  \n",
       "3119  [things, your, adhd, child, would, tell, you, if, he, could, i, m, trying, way, harder, than, you, ll, ever, know, even, though, it, doesn, t, seem, like, it, to, you, i, really, truly, am, criticizing, me, or, getting, angry, at, me, that, my, brain, doesn, t, work, better, doesn, t, help, me, it, makes, me, hate, myself, even, more, i, m, painfully, aware, of, all, the, areas, that, i, m, not, measuring, up, instead, of, making, a, big, deal, about, my, shortcomings, try, to, find, ways, to, help, me, an, accommodation, isn, t, the, same, as, enabling, if, you, help, ...]  "
      ]
     },
     "execution_count": 26,
     "metadata": {},
     "output_type": "execute_result"
    }
   ],
   "source": [
    "#df_clean.iloc[1500:1700][['Post', 'tokens']]\n",
    "df_clean.tail(2)"
   ]
  },
  {
   "cell_type": "code",
   "execution_count": 15,
   "id": "f6eefbac",
   "metadata": {},
   "outputs": [],
   "source": [
    "def remove_punctuation(word_list, punctuation_list):\n",
    "    return [word for word in word_list if word not in punctuation_list]\n",
    "\n",
    "punctuation_list = list(string.punctuation)\n",
    "\n",
    "df_clean['tokens'] = df_clean['tokens'].apply(lambda x: remove_punctuation(x, punctuation_list))"
   ]
  },
  {
   "cell_type": "code",
   "execution_count": 18,
   "id": "0e9419bb",
   "metadata": {},
   "outputs": [],
   "source": [
    "corpus_tokens = df_clean['tokens'].sum()\n",
    "#print(corpus_tokens)"
   ]
  },
  {
   "cell_type": "code",
   "execution_count": 19,
   "id": "318bd25b",
   "metadata": {},
   "outputs": [
    {
     "data": {
      "text/plain": [
       "10678"
      ]
     },
     "execution_count": 19,
     "metadata": {},
     "output_type": "execute_result"
    }
   ],
   "source": [
    "#check frequency distribution\n",
    "freq_dist_check = FreqDist(corpus_tokens)\n",
    "len(freq_dist_check)"
   ]
  },
  {
   "cell_type": "code",
   "execution_count": 20,
   "id": "a9d2cb0c",
   "metadata": {},
   "outputs": [
    {
     "data": {
      "text/plain": [
       "4152"
      ]
     },
     "execution_count": 20,
     "metadata": {},
     "output_type": "execute_result"
    }
   ],
   "source": [
    "three_time_appear_words = [word for word in freq_dist_check.most_common() if word[1] >= 3]\n",
    "len(three_time_appear_words)"
   ]
  },
  {
   "cell_type": "code",
   "execution_count": 21,
   "id": "303dfc79",
   "metadata": {},
   "outputs": [
    {
     "data": {
      "text/plain": [
       "[('i', 14064),\n",
       " ('to', 7492),\n",
       " ('and', 6819),\n",
       " ('the', 4676),\n",
       " ('my', 4505),\n",
       " ('a', 4194),\n",
       " ('it', 3127),\n",
       " ('me', 2760),\n",
       " ('of', 2741),\n",
       " ('t', 2548),\n",
       " ('in', 2422),\n",
       " ('is', 2370),\n",
       " ('m', 2337),\n",
       " ('for', 2302),\n",
       " ('that', 2170)]"
      ]
     },
     "execution_count": 21,
     "metadata": {},
     "output_type": "execute_result"
    }
   ],
   "source": [
    "three_time_appear_words[:15]\n",
    "#can remove stop words"
   ]
  },
  {
   "cell_type": "code",
   "execution_count": 22,
   "id": "acfb08ea",
   "metadata": {},
   "outputs": [],
   "source": [
    "#store & save to a CSV file\n",
    "df_clean.to_csv('../../Sample Datasets/tokenized_smsa_data.csv', index = False)"
   ]
  }
 ],
 "metadata": {
  "kernelspec": {
   "display_name": "Python 3 (ipykernel)",
   "language": "python",
   "name": "python3"
  },
  "language_info": {
   "codemirror_mode": {
    "name": "ipython",
    "version": 3
   },
   "file_extension": ".py",
   "mimetype": "text/x-python",
   "name": "python",
   "nbconvert_exporter": "python",
   "pygments_lexer": "ipython3",
   "version": "3.11.0"
  }
 },
 "nbformat": 4,
 "nbformat_minor": 5
}
