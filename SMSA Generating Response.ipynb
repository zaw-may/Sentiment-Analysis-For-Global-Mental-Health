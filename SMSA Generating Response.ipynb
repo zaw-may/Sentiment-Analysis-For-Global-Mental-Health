{
 "cells": [
  {
   "cell_type": "markdown",
   "id": "d6ceacfd",
   "metadata": {},
   "source": [
    "## Facebook Public Group Post And Comment (Generating Response with OpenAI)"
   ]
  },
  {
   "cell_type": "code",
   "execution_count": null,
   "id": "0e19a057",
   "metadata": {
    "scrolled": true
   },
   "outputs": [],
   "source": [
    "!pip install openai"
   ]
  },
  {
   "cell_type": "code",
   "execution_count": 36,
   "id": "cd137395",
   "metadata": {},
   "outputs": [],
   "source": [
    "import numpy as np\n",
    "import pandas as pd\n",
    "import time\n",
    "import openai\n",
    "from langchain.document_loaders import TextLoader\n",
    "from langchain.embeddings.openai import OpenAIEmbeddings\n",
    "from langchain.text_splitter import CharacterTextSplitter\n",
    "from langchain.vectorstores import Chroma\n",
    "from langchain.indexes import VectorstoreIndexCreator\n",
    "from langchain.docstore.document import Document\n",
    "from langchain.chat_models import ChatOpenAI"
   ]
  },
  {
   "cell_type": "code",
   "execution_count": 40,
   "id": "0e2beb85",
   "metadata": {
    "scrolled": true
   },
   "outputs": [
    {
     "data": {
      "text/html": [
       "<div>\n",
       "<style scoped>\n",
       "    .dataframe tbody tr th:only-of-type {\n",
       "        vertical-align: middle;\n",
       "    }\n",
       "\n",
       "    .dataframe tbody tr th {\n",
       "        vertical-align: top;\n",
       "    }\n",
       "\n",
       "    .dataframe thead th {\n",
       "        text-align: right;\n",
       "    }\n",
       "</style>\n",
       "<table border=\"1\" class=\"dataframe\">\n",
       "  <thead>\n",
       "    <tr style=\"text-align: right;\">\n",
       "      <th></th>\n",
       "      <th>Post</th>\n",
       "      <th>1Comment</th>\n",
       "      <th>2Comment</th>\n",
       "      <th>tokens</th>\n",
       "      <th>sentiment</th>\n",
       "      <th>textblob_polarity</th>\n",
       "    </tr>\n",
       "  </thead>\n",
       "  <tbody>\n",
       "    <tr>\n",
       "      <th>0</th>\n",
       "      <td>i feel like i m a burden to everybody bothering people with my problems my existence moving to a different city changing my number have been heavy on my mind</td>\n",
       "      <td>best to talk to a therapist it s too much for family and friends</td>\n",
       "      <td>i hear you i do i want to do the same sometimes but then i watch people and see who they are because i know i have a mental issue and i know my brain lies to me look around you some people really do care maybe go to weekly mind meetings in the uk or groups local to you who all feel the same xxx</td>\n",
       "      <td>['i', 'feel', 'like', 'i', 'm', 'a', 'burden', 'to', 'everybody', 'bothering', 'people', 'with', 'my', 'problems', 'my', 'existence', 'moving', 'to', 'a', 'different', 'city', 'changing', 'my', 'number', 'have', 'been', 'heavy', 'on', 'my', 'mind']</td>\n",
       "      <td>Moderately Negative</td>\n",
       "      <td>-0.1</td>\n",
       "    </tr>\n",
       "    <tr>\n",
       "      <th>1</th>\n",
       "      <td>this is what i ll be doing on christmas i just do not feel well i just do not have it in me to fight i ve been doing it for years i m just worn out i do hope your christmas will be better</td>\n",
       "      <td>give yourself a break from your negative thoughts this is the day the king is born</td>\n",
       "      <td>same here i know how you feel</td>\n",
       "      <td>['this', 'is', 'what', 'i', 'll', 'be', 'doing', 'on', 'christmas', 'i', 'just', 'do', 'not', 'feel', 'well', 'i', 'just', 'do', 'not', 'have', 'it', 'in', 'me', 'to', 'fight', 'i', 've', 'been', 'doing', 'it', 'for', 'years', 'i', 'm', 'just', 'worn', 'out', 'i', 'do', 'hope', 'your', 'christmas', 'will', 'be', 'better']</td>\n",
       "      <td>Positive</td>\n",
       "      <td>0.5</td>\n",
       "    </tr>\n",
       "    <tr>\n",
       "      <th>2</th>\n",
       "      <td>bye big hugs blessed be judge me all you want don t care after tonight my spouse thinks he s so wonderful well let s me make it real</td>\n",
       "      <td>i m okay but mentally i m not and i m done putting up with all this i will be okay when i disappear not dead just gone i ve seriously had enough thank you all for caring i do greatly appreciate it more than i can even express</td>\n",
       "      <td>are you ok</td>\n",
       "      <td>['bye', 'big', 'hugs', 'blessed', 'be', 'judge', 'me', 'all', 'you', 'want', 'don', 't', 'care', 'after', 'tonight', 'my', 'spouse', 'thinks', 'he', 's', 'so', 'wonderful', 'well', 'let', 's', 'me', 'make', 'it', 'real']</td>\n",
       "      <td>Moderately Positive</td>\n",
       "      <td>0.4</td>\n",
       "    </tr>\n",
       "  </tbody>\n",
       "</table>\n",
       "</div>"
      ],
      "text/plain": [
       "                                                                                                                                                                                          Post  \\\n",
       "0                                i feel like i m a burden to everybody bothering people with my problems my existence moving to a different city changing my number have been heavy on my mind   \n",
       "1  this is what i ll be doing on christmas i just do not feel well i just do not have it in me to fight i ve been doing it for years i m just worn out i do hope your christmas will be better   \n",
       "2                                                         bye big hugs blessed be judge me all you want don t care after tonight my spouse thinks he s so wonderful well let s me make it real   \n",
       "\n",
       "                                                                                                                                                                                                                            1Comment  \\\n",
       "0                                                                                                                                                                   best to talk to a therapist it s too much for family and friends   \n",
       "1                                                                                                                                                 give yourself a break from your negative thoughts this is the day the king is born   \n",
       "2  i m okay but mentally i m not and i m done putting up with all this i will be okay when i disappear not dead just gone i ve seriously had enough thank you all for caring i do greatly appreciate it more than i can even express   \n",
       "\n",
       "                                                                                                                                                                                                                                                                                                  2Comment  \\\n",
       "0  i hear you i do i want to do the same sometimes but then i watch people and see who they are because i know i have a mental issue and i know my brain lies to me look around you some people really do care maybe go to weekly mind meetings in the uk or groups local to you who all feel the same xxx   \n",
       "1                                                                                                                                                                                                                                                                            same here i know how you feel   \n",
       "2                                                                                                                                                                                                                                                                                               are you ok   \n",
       "\n",
       "                                                                                                                                                                                                                                                                                                                                tokens  \\\n",
       "0                                                                             ['i', 'feel', 'like', 'i', 'm', 'a', 'burden', 'to', 'everybody', 'bothering', 'people', 'with', 'my', 'problems', 'my', 'existence', 'moving', 'to', 'a', 'different', 'city', 'changing', 'my', 'number', 'have', 'been', 'heavy', 'on', 'my', 'mind']   \n",
       "1  ['this', 'is', 'what', 'i', 'll', 'be', 'doing', 'on', 'christmas', 'i', 'just', 'do', 'not', 'feel', 'well', 'i', 'just', 'do', 'not', 'have', 'it', 'in', 'me', 'to', 'fight', 'i', 've', 'been', 'doing', 'it', 'for', 'years', 'i', 'm', 'just', 'worn', 'out', 'i', 'do', 'hope', 'your', 'christmas', 'will', 'be', 'better']   \n",
       "2                                                                                                         ['bye', 'big', 'hugs', 'blessed', 'be', 'judge', 'me', 'all', 'you', 'want', 'don', 't', 'care', 'after', 'tonight', 'my', 'spouse', 'thinks', 'he', 's', 'so', 'wonderful', 'well', 'let', 's', 'me', 'make', 'it', 'real']   \n",
       "\n",
       "             sentiment  textblob_polarity  \n",
       "0  Moderately Negative               -0.1  \n",
       "1             Positive                0.5  \n",
       "2  Moderately Positive                0.4  "
      ]
     },
     "execution_count": 40,
     "metadata": {},
     "output_type": "execute_result"
    }
   ],
   "source": [
    "dataframe = pd.read_csv(\"../../Sample Datasets/classify_sentiment_smsa_data.csv\")\n",
    "pd.set_option('display.max_colwidth', None)\n",
    "dataframe.head(3)"
   ]
  },
  {
   "cell_type": "code",
   "execution_count": 41,
   "id": "703c6d35",
   "metadata": {},
   "outputs": [
    {
     "data": {
      "text/html": [
       "<div>\n",
       "<style scoped>\n",
       "    .dataframe tbody tr th:only-of-type {\n",
       "        vertical-align: middle;\n",
       "    }\n",
       "\n",
       "    .dataframe tbody tr th {\n",
       "        vertical-align: top;\n",
       "    }\n",
       "\n",
       "    .dataframe thead th {\n",
       "        text-align: right;\n",
       "    }\n",
       "</style>\n",
       "<table border=\"1\" class=\"dataframe\">\n",
       "  <thead>\n",
       "    <tr style=\"text-align: right;\">\n",
       "      <th></th>\n",
       "      <th>Post</th>\n",
       "    </tr>\n",
       "  </thead>\n",
       "  <tbody>\n",
       "    <tr>\n",
       "      <th>2898</th>\n",
       "      <td>what is wrong with people that sexually abuse others</td>\n",
       "    </tr>\n",
       "    <tr>\n",
       "      <th>2976</th>\n",
       "      <td>just a reminder of the causes we are supporting our primary aim is to help remove the stigma associated with mental health and talking about it nobody should ever feel alone and isolated we feel that fundraising for mindfixers socially inclusive therapy beachy head chaplaincy team suicide prevention and pavilion drug and alcohol support is the best place to start mindfixers is a not for profit organisation created to provide a cheap quick and top quality solution for those seeking therapy part of the mindfixers solution mindfixers programme is a hour programme spread over weeks which is accessible by anyone and provides therapy for almost any mental condition the cost of an hour s session is around less than the average hourly rate for private therapy and can often be free of charge accessibility is the key and mindfixers will enable thousands of people who would otherwise be denied therapy the ability to fix their mental issues fast quickly and expertly beachy head chaplaincy is a valued search and rescue charity that seeks to save lives at beachy head east sussex the chaplains patrol on foot and by car and respond to emergency calls locating anyone at risk using their skills in crisis intervention they offer supportive listening to start a dialogue and to encourage more hopeful solutions than suicide they work alongside local services helping people to access support pavillions provides drug and alcohol services for adults in brighton hove support is available to anyone concerned about their drug or alcohol use or to the families and carers supporting those struggling with substance misuse irrespective of age gender disability ethnicity sexual orientation marital status or hiv status as you can see these are amazing causes please donate</td>\n",
       "    </tr>\n",
       "    <tr>\n",
       "      <th>2130</th>\n",
       "      <td>well it happened after the latest health news and a big argument with my wife being sick of health problems while saying she wants to stay friends said i m not capable of being a husband while having all these health problems and unless i can find a treatment that works she wants a separation as what we have is not even a marriage anymore it s just us moaning about our lives to each other with having autism and how badly i am at socalising that is no doubt my one and only chance at love destroyed</td>\n",
       "    </tr>\n",
       "  </tbody>\n",
       "</table>\n",
       "</div>"
      ],
      "text/plain": [
       "                                                                                                                                                                                                                                                                                                                                                                                                                                                                                                                                                                                                                                                                                                                                                                                                                                                                                                                                                                                                                                                                                                                                                                                                                                                                                                                                                                                                                                                                                                                                                                                                                                                                                                                                                                                                                                          Post\n",
       "2898                                                                                                                                                                                                                                                                                                                                                                                                                                                                                                                                                                                                                                                                                                                                                                                                                                                                                                                                                                                                                                                                                                                                                                                                                                                                                                                                                                                                                                                                                                                                                                                                                                                                                                                                                                                      what is wrong with people that sexually abuse others\n",
       "2976  just a reminder of the causes we are supporting our primary aim is to help remove the stigma associated with mental health and talking about it nobody should ever feel alone and isolated we feel that fundraising for mindfixers socially inclusive therapy beachy head chaplaincy team suicide prevention and pavilion drug and alcohol support is the best place to start mindfixers is a not for profit organisation created to provide a cheap quick and top quality solution for those seeking therapy part of the mindfixers solution mindfixers programme is a hour programme spread over weeks which is accessible by anyone and provides therapy for almost any mental condition the cost of an hour s session is around less than the average hourly rate for private therapy and can often be free of charge accessibility is the key and mindfixers will enable thousands of people who would otherwise be denied therapy the ability to fix their mental issues fast quickly and expertly beachy head chaplaincy is a valued search and rescue charity that seeks to save lives at beachy head east sussex the chaplains patrol on foot and by car and respond to emergency calls locating anyone at risk using their skills in crisis intervention they offer supportive listening to start a dialogue and to encourage more hopeful solutions than suicide they work alongside local services helping people to access support pavillions provides drug and alcohol services for adults in brighton hove support is available to anyone concerned about their drug or alcohol use or to the families and carers supporting those struggling with substance misuse irrespective of age gender disability ethnicity sexual orientation marital status or hiv status as you can see these are amazing causes please donate\n",
       "2130                                                                                                                                                                                                                                                                                                                                                                                                                                                                                                                                                                                                                                                                                                                                                                                                                                                                                                                                                                                                                                                                                                                                                                                                                                                                                                                     well it happened after the latest health news and a big argument with my wife being sick of health problems while saying she wants to stay friends said i m not capable of being a husband while having all these health problems and unless i can find a treatment that works she wants a separation as what we have is not even a marriage anymore it s just us moaning about our lives to each other with having autism and how badly i am at socalising that is no doubt my one and only chance at love destroyed"
      ]
     },
     "execution_count": 41,
     "metadata": {},
     "output_type": "execute_result"
    }
   ],
   "source": [
    "sam_df = dataframe\n",
    "sam_df.drop(columns = ['1Comment', '2Comment', 'tokens', 'sentiment', 'textblob_polarity'], inplace = True)\n",
    "#sample subset of data\n",
    "sam_df = sam_df.sample(n = 500, random_state = 42)\n",
    "sam_df.head(3)"
   ]
  },
  {
   "cell_type": "code",
   "execution_count": 43,
   "id": "03f6a0f0",
   "metadata": {},
   "outputs": [
    {
     "name": "stdout",
     "output_type": "stream",
     "text": [
      "Loading 500 social media posts into the VectorstoreIndex as examples.\n"
     ]
    }
   ],
   "source": [
    "import os\n",
    "os.environ[\"OPENAI_API_KEY\"] = \"sk-xxxxx\"\n",
    "\n",
    "doclist = []\n",
    "\n",
    "for eachpost in range(sam_df.shape[0]):\n",
    "    raw_documents = Document(page_content = \"sm_posts\")\n",
    "    doclist.append(raw_documents)\n",
    "    \n",
    "print(\"Loading\",len(doclist),\"social media posts into the VectorstoreIndex as examples.\")"
   ]
  },
  {
   "cell_type": "code",
   "execution_count": 44,
   "id": "0058d21c",
   "metadata": {},
   "outputs": [
    {
     "data": {
      "text/plain": [
       "VectorStoreIndexWrapper(vectorstore=<langchain_community.vectorstores.chroma.Chroma object at 0x000001AFE1CF1750>)"
      ]
     },
     "execution_count": 44,
     "metadata": {},
     "output_type": "execute_result"
    }
   ],
   "source": [
    "index = VectorstoreIndexCreator(vectorstore_kwargs = {\"persist_directory\":None}).from_documents(doclist)\n",
    "index"
   ]
  },
  {
   "cell_type": "code",
   "execution_count": 45,
   "id": "b2377851",
   "metadata": {},
   "outputs": [],
   "source": [
    "query1 = \"Use Social Media Posts that I provided: \" + \\\n",
    "str(raw_documents) + \\\n",
    "\"From the perspective of the National Institute of Mental Health \" + \\\n",
    "\"as a psychologist, \" + \\\n",
    "\"Examine these posts and assess each if it contains any mental health disorder \" + \\\n",
    "\"Pay attention to the language used, any expressions of depression, anxiety, stress, Post-traumatic stress disorder (PTSD), feelings of being trapped or overwhelmed, or mentions of wanting to end ones' life \" + \\\n",
    "\"Also, look for any indications of hopelessness, helplessness, hate, being tired, or worthlessness, as well as any mention of plans or preparations for self-harm. \" + \\\n",
    "\"Take every post seriously.\" + \\\n",
    "\"Use a diagnosis of Follow-up with any potential things checked for above and give some advice or recommendation for mental health.\" + \\\n",
    "\"You must answer as a python dictionary with keys post_number and diagnosis is in the format \" + \\\n",
    "\"{ post: [{post_number: x, diagnosis: value}]}.\"\n",
    "\n",
    "query2 = \"Retry the posts \" + \\\n",
    "str(raw_documents) + \\\n",
    "\"From the perspective of the National Institute of Mental Health \" + \\\n",
    "\"as a counsellor, \" + \\\n",
    "\"Examine these posts and assess each if it contains any mental health disorder \" + \\\n",
    "\"Pay attention to the language used, any expressions of depression, anxiety, stress, Post-traumatic stress disorder (PTSD), feelings of being trapped or overwhelmed, or mentions of wanting to end ones' life \" + \\\n",
    "\"Also, look for any indications of hopelessness, helplessness, hate, being tired, or worthlessness, as well as any mention of plans or preparations for self-harm. \" + \\\n",
    "\"Take every post seriously.\" + \\\n",
    "\"Use a diagnosis of Follow-up with any potential things checked for above and give some advice or recommendation for mental health.\" + \\\n",
    "\"You must answer as a python dictionary with keys post_number and diagnosis is in the format \" + \\\n",
    "\"{ post: [{post_number: x, diagnosis: value}]}.\""
   ]
  },
  {
   "cell_type": "code",
   "execution_count": null,
   "id": "e27b86a3",
   "metadata": {},
   "outputs": [],
   "source": [
    "BATCH_SIZE = 1\n",
    "#sam_df.shape[0]\n",
    "batch_cnt = 20 \n",
    "response = \"\"\n",
    "responsedict = []\n",
    "\n",
    "for batch in range(batch_cnt):\n",
    "    raw_documents = Document(page_content = str(sam_df.loc[batch*BATCH_SIZE:(batch+1)*BATCH_SIZE-1, \"Post\"].to_dict()))\n",
    "    print(\"Processing batch\",batch+1,\"of\",batch_cnt,\"batches.\")\n",
    "    \n",
    "    query1 = \"Use Social Media Posts that I provided: \" + \\\n",
    "    str(raw_documents) + \\\n",
    "    \"From the perspective of the National Institute of Mental Health \" + \\\n",
    "    \"as a psychologist, \" + \\\n",
    "    \"Make a diagnosis and response when a post has mental health disorder \" + \\\n",
    "    \"such as depression, anxiety, stress, Post-traumatic stress disorder (PTSD), feelings of being trapped or overwhelmed, or mentions of wanting to end ones' life. \" + \\\n",
    "    \"And also categorize the mental health disorder, properly.\" + \\\n",
    "    \"It is better have a diagnosis as Follow-up than a diagnosis as Ignore and double check before a diagnosis for Ignore.\" + \\\n",
    "    \"You must answer as a python dictionary with keys post_number and diagnosis is in the format \" + \\\n",
    "    \"{ post: [{post_number: x, diagnosis: value}]}.\"\n",
    "     \n",
    "    query2 = \"Retry the posts\" + \\\n",
    "    str(raw_documents) + \\\n",
    "    \"From the perspective of the National Institute of Mental Health \" + \\\n",
    "    \"as a counsellor, \" + \\\n",
    "    \"Make a diagnosis and response when a post has mental health disorder \" + \\\n",
    "    \"such as depression, anxiety, stress, Post-traumatic stress disorder (PTSD), feelings of being trapped or overwhelmed, or mentions of wanting to end ones' life. \" + \\\n",
    "    \"And also categorize the mental health disorder, properly.\" + \\\n",
    "    \"It is better have a diagnosis as Follow-up than a diagnosis as Ignore and double check before a diagnosis for Ignore.\" + \\\n",
    "    \"You must answer as a python dictionary with keys post_number and diagnosis is in the format \" + \\\n",
    "    \"{ post: [{post_number: x, diagnosis: value}]}.\"   \n",
    "    \n",
    "    try:\n",
    "        response = index.query(query1, llm = ChatOpenAI(model_name = \"gpt-3.5-turbo\"))\n",
    "    except:\n",
    "        response = index.query(query2, llm = ChatOpenAI(model_name = \"gpt-3.5-turbo\"))\n",
    "        \n",
    "    responsedict.append(response)\n",
    "    time.sleep(1)\n",
    "    \n",
    "print(\"done\")\n",
    "responsedict[:10]"
   ]
  }
 ],
 "metadata": {
  "kernelspec": {
   "display_name": "Python 3 (ipykernel)",
   "language": "python",
   "name": "python3"
  },
  "language_info": {
   "codemirror_mode": {
    "name": "ipython",
    "version": 3
   },
   "file_extension": ".py",
   "mimetype": "text/x-python",
   "name": "python",
   "nbconvert_exporter": "python",
   "pygments_lexer": "ipython3",
   "version": "3.11.0"
  }
 },
 "nbformat": 4,
 "nbformat_minor": 5
}
