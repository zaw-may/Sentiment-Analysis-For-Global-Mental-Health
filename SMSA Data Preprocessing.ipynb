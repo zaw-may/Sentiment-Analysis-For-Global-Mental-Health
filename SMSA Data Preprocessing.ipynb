{
 "cells": [
  {
   "cell_type": "markdown",
   "id": "8b2c3cca",
   "metadata": {},
   "source": [
    "## Facebook Public Group Post And Comment (Data Preprocessing)"
   ]
  },
  {
   "cell_type": "code",
   "execution_count": null,
   "id": "a7af2fa3",
   "metadata": {},
   "outputs": [],
   "source": [
    "!pip install emoji"
   ]
  },
  {
   "cell_type": "code",
   "execution_count": 1,
   "id": "1ee8700a",
   "metadata": {},
   "outputs": [],
   "source": [
    "import pandas as pd\n",
    "import numpy as np\n",
    "import re\n",
    "import string"
   ]
  },
  {
   "cell_type": "code",
   "execution_count": 2,
   "id": "7d30ad1e",
   "metadata": {},
   "outputs": [
    {
     "data": {
      "text/html": [
       "<div>\n",
       "<style scoped>\n",
       "    .dataframe tbody tr th:only-of-type {\n",
       "        vertical-align: middle;\n",
       "    }\n",
       "\n",
       "    .dataframe tbody tr th {\n",
       "        vertical-align: top;\n",
       "    }\n",
       "\n",
       "    .dataframe thead th {\n",
       "        text-align: right;\n",
       "    }\n",
       "</style>\n",
       "<table border=\"1\" class=\"dataframe\">\n",
       "  <thead>\n",
       "    <tr style=\"text-align: right;\">\n",
       "      <th></th>\n",
       "      <th>Post</th>\n",
       "      <th>1Comment</th>\n",
       "      <th>2Comment</th>\n",
       "    </tr>\n",
       "  </thead>\n",
       "  <tbody>\n",
       "    <tr>\n",
       "      <th>0</th>\n",
       "      <td>I feel like I’m a burden to everybody  bothering people with my problems &amp; my existence. Moving to a different city &amp; changing my number have been heavy on my mind.</td>\n",
       "      <td>Best to talk to a therapist. It's too much for family and friends</td>\n",
       "      <td>I hear you.... I do. I want to do the same sometimes. But then I watch people and see who they are because I know I have a mental issue and I know my brain lies to me... Look around you.... Some people really do care.\\n\\nMaybe go to weekly mind meetings in the UK or groups local to you who all feel the same xxx</td>\n",
       "    </tr>\n",
       "    <tr>\n",
       "      <th>1</th>\n",
       "      <td>This is what I'll be doing on Christmas. I just do not feel well. I just do not have it in me to fight  I've been doing it for 55 years. I'm just worn out. I do hope your Christmas will be better.</td>\n",
       "      <td>Give yourself a break from your negative thoughts. This is the day  the king is born.</td>\n",
       "      <td>Same here. I know how you feel</td>\n",
       "    </tr>\n",
       "    <tr>\n",
       "      <th>2</th>\n",
       "      <td>Bye big hugs blessed be judge me all you want don't care.  After tonight my spouse thinks he's so wonderful well let's me make it real!!</td>\n",
       "      <td>I'm okay but mentally I'm not and I'm done putting up with all this...i will be okay when I disappear not dead just gone!! I've seriously had enough.  Thank you all for caring I do greatly appreciate it more than I can even express!</td>\n",
       "      <td>Are you OK?</td>\n",
       "    </tr>\n",
       "    <tr>\n",
       "      <th>3</th>\n",
       "      <td>I know this may be deemed a silly question but it's in my nature to ask  how is everyone feeling? Let's start a discussion.</td>\n",
       "      <td>Restless. I personally think there's something else going on.</td>\n",
       "      <td>I agree it's so hard to know what to know what to believe. The media have reputation of skewing the truth by means of escalating small amounts of truth. My best guess is to focus on multi-platform news like LBC radio. This essentially provides a balance view. Anyhow, the more we communicate with each other the better. This also provides the opportunity to gain a balanced view. Let's support each other through this. :)</td>\n",
       "    </tr>\n",
       "    <tr>\n",
       "      <th>4</th>\n",
       "      <td>hi Steve, I thought you could use this sometimes 😊</td>\n",
       "      <td>6</td>\n",
       "      <td>5</td>\n",
       "    </tr>\n",
       "  </tbody>\n",
       "</table>\n",
       "</div>"
      ],
      "text/plain": [
       "                                                                                                                                                                                                   Post  \\\n",
       "0                                  I feel like I’m a burden to everybody  bothering people with my problems & my existence. Moving to a different city & changing my number have been heavy on my mind.   \n",
       "1  This is what I'll be doing on Christmas. I just do not feel well. I just do not have it in me to fight  I've been doing it for 55 years. I'm just worn out. I do hope your Christmas will be better.   \n",
       "2                                                              Bye big hugs blessed be judge me all you want don't care.  After tonight my spouse thinks he's so wonderful well let's me make it real!!   \n",
       "3                                                                           I know this may be deemed a silly question but it's in my nature to ask  how is everyone feeling? Let's start a discussion.   \n",
       "4                                                                                                                                                    hi Steve, I thought you could use this sometimes 😊   \n",
       "\n",
       "                                                                                                                                                                                                                                   1Comment  \\\n",
       "0                                                                                                                                                                         Best to talk to a therapist. It's too much for family and friends   \n",
       "1                                                                                                                                                     Give yourself a break from your negative thoughts. This is the day  the king is born.   \n",
       "2  I'm okay but mentally I'm not and I'm done putting up with all this...i will be okay when I disappear not dead just gone!! I've seriously had enough.  Thank you all for caring I do greatly appreciate it more than I can even express!   \n",
       "3                                                                                                                                                                             Restless. I personally think there's something else going on.   \n",
       "4                                                                                                                                                                                                                                         6   \n",
       "\n",
       "                                                                                                                                                                                                                                                                                                                                                                                                                                2Comment  \n",
       "0                                                                                                               I hear you.... I do. I want to do the same sometimes. But then I watch people and see who they are because I know I have a mental issue and I know my brain lies to me... Look around you.... Some people really do care.\\n\\nMaybe go to weekly mind meetings in the UK or groups local to you who all feel the same xxx  \n",
       "1                                                                                                                                                                                                                                                                                                                                                                                                         Same here. I know how you feel  \n",
       "2                                                                                                                                                                                                                                                                                                                                                                                                                            Are you OK?  \n",
       "3  I agree it's so hard to know what to know what to believe. The media have reputation of skewing the truth by means of escalating small amounts of truth. My best guess is to focus on multi-platform news like LBC radio. This essentially provides a balance view. Anyhow, the more we communicate with each other the better. This also provides the opportunity to gain a balanced view. Let's support each other through this. :)  \n",
       "4                                                                                                                                                                                                                                                                                                                                                                                                                                      5  "
      ]
     },
     "execution_count": 2,
     "metadata": {},
     "output_type": "execute_result"
    }
   ],
   "source": [
    "dataframe = pd.read_csv(\"../Sample Datasets/SMSA Dataset.csv\")\n",
    "pd.set_option('display.max_colwidth', None)\n",
    "dataframe.head()"
   ]
  },
  {
   "cell_type": "code",
   "execution_count": 3,
   "id": "bcf13467",
   "metadata": {},
   "outputs": [
    {
     "name": "stdout",
     "output_type": "stream",
     "text": [
      "<class 'pandas.core.frame.DataFrame'>\n",
      "RangeIndex: 3591 entries, 0 to 3590\n",
      "Data columns (total 3 columns):\n",
      " #   Column    Non-Null Count  Dtype \n",
      "---  ------    --------------  ----- \n",
      " 0   Post      3591 non-null   object\n",
      " 1   1Comment  2412 non-null   object\n",
      " 2   2Comment  1674 non-null   object\n",
      "dtypes: object(3)\n",
      "memory usage: 84.3+ KB\n"
     ]
    }
   ],
   "source": [
    "df_clean = dataframe\n",
    "df_clean['Post'] = df_clean['Post'].apply(lambda x: ' '.join(map(str, x)) if isinstance(x, list) else str(x)) \n",
    "df_clean.info()"
   ]
  },
  {
   "cell_type": "code",
   "execution_count": 4,
   "id": "aabac41c",
   "metadata": {},
   "outputs": [
    {
     "data": {
      "text/html": [
       "<div>\n",
       "<style scoped>\n",
       "    .dataframe tbody tr th:only-of-type {\n",
       "        vertical-align: middle;\n",
       "    }\n",
       "\n",
       "    .dataframe tbody tr th {\n",
       "        vertical-align: top;\n",
       "    }\n",
       "\n",
       "    .dataframe thead th {\n",
       "        text-align: right;\n",
       "    }\n",
       "</style>\n",
       "<table border=\"1\" class=\"dataframe\">\n",
       "  <thead>\n",
       "    <tr style=\"text-align: right;\">\n",
       "      <th></th>\n",
       "      <th>Post</th>\n",
       "      <th>1Comment</th>\n",
       "      <th>2Comment</th>\n",
       "    </tr>\n",
       "  </thead>\n",
       "  <tbody>\n",
       "    <tr>\n",
       "      <th>count</th>\n",
       "      <td>3591</td>\n",
       "      <td>2412</td>\n",
       "      <td>1674</td>\n",
       "    </tr>\n",
       "    <tr>\n",
       "      <th>unique</th>\n",
       "      <td>2826</td>\n",
       "      <td>2349</td>\n",
       "      <td>1636</td>\n",
       "    </tr>\n",
       "    <tr>\n",
       "      <th>top</th>\n",
       "      <td>nan</td>\n",
       "      <td>Yes</td>\n",
       "      <td>My son is diagnosed with severe ADHD, ASD, autism and has defiant behaviors which are very unbearable. Someone directed me to myco_ebby on IG. Now my son has been on the full spectrum THC free cbd gummies for about two months. No side effects. He eats like a champ and even sleeps great, there’s been improved focus and the meltdowns barely happen. It's worked really well for him. He says he feels better when he's on his gummies than when he's not and they last well over 8 hours, just in time for the second dose. Before that, we had tried Vyvanse and Strattera with poor results and lots of side effects. We get it from myco_ebby on insta, it’s worth a shot.</td>\n",
       "    </tr>\n",
       "    <tr>\n",
       "      <th>freq</th>\n",
       "      <td>732</td>\n",
       "      <td>6</td>\n",
       "      <td>5</td>\n",
       "    </tr>\n",
       "  </tbody>\n",
       "</table>\n",
       "</div>"
      ],
      "text/plain": [
       "        Post 1Comment  \\\n",
       "count   3591     2412   \n",
       "unique  2826     2349   \n",
       "top      nan      Yes   \n",
       "freq     732        6   \n",
       "\n",
       "                                                                                                                                                                                                                                                                                                                                                                                                                                                                                                                                                                                                                                                                                      2Comment  \n",
       "count                                                                                                                                                                                                                                                                                                                                                                                                                                                                                                                                                                                                                                                                                     1674  \n",
       "unique                                                                                                                                                                                                                                                                                                                                                                                                                                                                                                                                                                                                                                                                                    1636  \n",
       "top     My son is diagnosed with severe ADHD, ASD, autism and has defiant behaviors which are very unbearable. Someone directed me to myco_ebby on IG. Now my son has been on the full spectrum THC free cbd gummies for about two months. No side effects. He eats like a champ and even sleeps great, there’s been improved focus and the meltdowns barely happen. It's worked really well for him. He says he feels better when he's on his gummies than when he's not and they last well over 8 hours, just in time for the second dose. Before that, we had tried Vyvanse and Strattera with poor results and lots of side effects. We get it from myco_ebby on insta, it’s worth a shot.  \n",
       "freq                                                                                                                                                                                                                                                                                                                                                                                                                                                                                                                                                                                                                                                                                         5  "
      ]
     },
     "execution_count": 4,
     "metadata": {},
     "output_type": "execute_result"
    }
   ],
   "source": [
    "df_clean.describe()"
   ]
  },
  {
   "cell_type": "code",
   "execution_count": 5,
   "id": "d5056f98",
   "metadata": {},
   "outputs": [
    {
     "name": "stdout",
     "output_type": "stream",
     "text": [
      "Post           0\n",
      "1Comment    1179\n",
      "2Comment    1917\n",
      "dtype: int64\n"
     ]
    }
   ],
   "source": [
    "null_counts = df_clean.isnull().sum()\n",
    "print(null_counts)"
   ]
  },
  {
   "cell_type": "code",
   "execution_count": 6,
   "id": "3325afd5",
   "metadata": {
    "scrolled": true
   },
   "outputs": [
    {
     "name": "stdout",
     "output_type": "stream",
     "text": [
      "1940\n",
      "                                                                                                                                                                                                                                                                                                                                                                                                                                                                                                                                                                                                                                                                                                                                                                                                                                                                                                                                                                                                                                                                                                                                                                                                                                                                                                           Post  \\\n",
      "27                                                                                                                                                                                                                                                                                                                                                                                                                                                                                                                                                                                                                                                                                                                                                                                                                                                                                                                                                                                                                                                                                                                                                                                                                                                                                                          nan   \n",
      "144                                                                                                                                                                                                                                                                                                                                                                                                                                                                                                                                                                                                                                                                                                                                                                                                                                                                                                                                                                                                                                                                                                                                                                                    Btw! In Las Vegas! Certified mental J/k ! Bit looking for support group. Maybe other women suffering with kids like me.￼   \n",
      "260                                                                                                                                                                                                                                                                                                                                                                                                                                                                                                                                                                                                                                                                                                                                                                                                                                                                                                                                                                                                                                                                                                                                                                                                                                                                                                         nan   \n",
      "274                                                                                                                                                                                                                                                                                                                                                                                                                                                                                                                                                                                                                                                                                                                                                                                                                                                                                                                                                                                                                                                                                                                                                                                                                                                                                                         nan   \n",
      "287                                                                                                                                                                                                                                                                                                                                                                                                                                                                                                                                                                                                                                                                                                                                                                                                                                                                                                                                                                                                                                                                                                                           I have just joined the group I'm having a reall bad time with my mental illness I just can't stop my head from feeling like it's going to pop🤯 with all my thoughts building up 😭   \n",
      "370                                                                                                                                                                                                                                                                                                                                                                                                                                                                                                                                                                                                                                                                                                                                                                                                                                                                                                                                                                                                                                                                                                                                                                                                                                                                                                      Hello￼   \n",
      "513                                                                                                                                                                                                                                                                                                                                                                                                                                                                                                                                                                                                                                                                                                                                                                                                                                                                                                                                                                                                                                                                                                                                                                                                                                                                               My tower of strength, Angel ❤   \n",
      "577                                                                                                                                                                                                                                                                                                                                                                                                                                                                                                                                                                                                                                                                                                                                                                                                                                                                                                                                                                                                                                                                                                                                                                                                                                                                                          Feeling proper low   \n",
      "619                                                                                                                                                                                                                                                                                                                                                                                                                                                                                                                                                                                                                                                                                                                                                                                                                                                                                                                                                                                                                                                                                                                                                                                                                             It's 6:50am I'm at lowest of lows right now and not sure how to handle today! 😭   \n",
      "727  My husband, Tim Sitar is leaving me because of my mental health. I have panic attacks, I have anxiety I have borderline personality, disorder, depression. ￼ and this is all from growing up in an alcoholic family. I did everything I could to try to explain to him but he didn’t want any part of it. I’m nobody I’m not a therapist I’m just a person who’s been to therapy most of my life, but I think he’s a narcissist and I think I made a good mark for him my husband before Tim died. I didn’t see anyone for five years and let me tell you he charmed me and charmed me and charmed me. I think it’s called love bombing and I fell for it. I’m not sad because he’s leaving North Carolina and going back to New York. I’m sad because my little dog Jazzy really liked him and we are in a separation. In North Carolina you have to wait a year of separation and then you can file for divorce so he used to come over to my apartment just to help me out, bring things trying to make himself look like a good guy. But it breaks my heart because my dog hears people coming up and down the stairs and she thinks it’s Tim and she whines and whines and wines and I try to tell her that he’s never coming back just breaks my heart. ￼ nor do I want him to come back. Jazzy Girl   \n",
      "\n",
      "    1Comment  \\\n",
      "27       NaN   \n",
      "144      NaN   \n",
      "260      NaN   \n",
      "274      NaN   \n",
      "287      NaN   \n",
      "370      NaN   \n",
      "513      NaN   \n",
      "577      NaN   \n",
      "619      NaN   \n",
      "727      NaN   \n",
      "\n",
      "                                                                                                                                                                                  2Comment  \n",
      "27                                                                                                                                                                      A small selection!  \n",
      "144                                                                                                                                     Could you explain more? I hope you will get better  \n",
      "260                                                                                                                                       Grateful that support bubbles are still in play   \n",
      "274                                                                                                                                             Happy 😃 new year and all the best for 2021  \n",
      "287                                                                                                                Have to stay busy .. i know its hard but im pushing myself to do that..  \n",
      "370                                                                                                                                                                               Hi there  \n",
      "513                                                                                                                                                   I got one of those his name is Lenny  \n",
      "577                                                                                                                                            I know how you feel hun that's me most days  \n",
      "619                                                                                                                                                            I sure feel ya! Stay Strong  \n",
      "727  I've been with my partner for over 16 years and she's got paranoia and mental health and im struggling too but I'm trying yo hold on and keep going on sorry what u gone through 💯💯🙏🙏  \n"
     ]
    }
   ],
   "source": [
    "empty_cells = df_clean.isnull().any(axis = 1)\n",
    "empty_rows = empty_cells.sum()\n",
    "empty_cells_data = df_clean[empty_cells].head(10)\n",
    "\n",
    "print(empty_rows)\n",
    "print(empty_cells_data)"
   ]
  },
  {
   "cell_type": "code",
   "execution_count": 7,
   "id": "66d01b08",
   "metadata": {},
   "outputs": [
    {
     "name": "stdout",
     "output_type": "stream",
     "text": [
      "Empty DataFrame\n",
      "Columns: [Post, 1Comment, 2Comment]\n",
      "Index: []\n",
      "Empty DataFrame\n",
      "Columns: [Post, 1Comment, 2Comment]\n",
      "Index: []\n"
     ]
    }
   ],
   "source": [
    "blank_comment1 = df_clean[df_clean['1Comment'] == ''] \n",
    "\n",
    "blank_post = df_clean[df_clean['Post'] == '']\n",
    "\n",
    "print(blank_comment1)\n",
    "print(blank_post)\n",
    "#df_clean.iloc[1000: 2500]"
   ]
  },
  {
   "cell_type": "code",
   "execution_count": 8,
   "id": "254dcc0a",
   "metadata": {},
   "outputs": [],
   "source": [
    "#replacing missing blank cells (1Comment)\n",
    "df_clean['1Comment'] = df_clean['1Comment'].replace('', np.nan)\n",
    "df_clean['1Comment'] = df_clean['1Comment'].fillna(df_clean['2Comment'])"
   ]
  },
  {
   "cell_type": "code",
   "execution_count": 9,
   "id": "17460860",
   "metadata": {
    "scrolled": true
   },
   "outputs": [],
   "source": [
    "#replacing missing blank cells (Post)\n",
    "df_clean['Post'] = df_clean['Post'].replace('', np.nan)\n",
    "df_clean['Post'] = df_clean['Post'].fillna(df_clean['1Comment'])\n",
    "#df_clean.iloc[1000: 2500]"
   ]
  },
  {
   "cell_type": "code",
   "execution_count": 10,
   "id": "6c32db26",
   "metadata": {},
   "outputs": [
    {
     "name": "stdout",
     "output_type": "stream",
     "text": [
      "Count of 'nan': 732\n",
      "Count of 'NaN': 0\n",
      "Rows containing 'nan' or 'NaN' in the 'Post' column:\n",
      "     Post  \\\n",
      "17    nan   \n",
      "23    nan   \n",
      "27    nan   \n",
      "60    nan   \n",
      "98    nan   \n",
      "...   ...   \n",
      "3577  nan   \n",
      "3581  nan   \n",
      "3582  nan   \n",
      "3583  nan   \n",
      "3589  nan   \n",
      "\n",
      "                                                                                                                                                                                                                                                                                                              1Comment  \\\n",
      "17                                                                                                                                                                                                                                                                                                          Mint 👌😉💪🙏😇   \n",
      "23    I was in your place a long time ago all I can say God was watching over me and he is watching over you it took a lot of therapy a lot of tears it has been a long road but guess what it got better it doesn’t seem like that now but you will too get people around you family or friends that will support you   \n",
      "27                                                                                                                                                                                                                                                                                                  A small selection!   \n",
      "60                                                                                                                                                                                                                                                                                                      It's long road   \n",
      "98                                                                                                                                                                                                                                                                      Cold and wet, but shot a cheeky 71 today......   \n",
      "...                                                                                                                                                                                                                                                                                                                ...   \n",
      "3577                                                                                                                                                                                                                                                                                                               NaN   \n",
      "3581                                                                                                                                                                                                                                                                                                               NaN   \n",
      "3582                                                                                                                                                                                                                                                                                                               NaN   \n",
      "3583                                                                                                                                                                                                                                                                                                               NaN   \n",
      "3589                                                                                                                                                                                                                                                                                                                 💖   \n",
      "\n",
      "                                                                                                                                                                                                                                                                                                                                                        2Comment  \n",
      "17    13yr pushing buttons but thankfully me and hubby are a partnership when it comes to one of our kids having a melt down. I can remember how frustrating it can be at that age. She has the gift of the gab like me but wow she’s so much smarter than me. But not the life expectancies. She’s lost her electrical till Monday. But all good here 🤦‍♀️🤷‍♀️😂  \n",
      "23                                                                                                                                                                                                                                                                                                                 A lot of good causes out there to help others  \n",
      "27                                                                                                                                                                                                                                                                                                                                            A small selection!  \n",
      "60                                                                                                                                                                                                                                                                                                            And you are well prepared in order to appreciate 🙂  \n",
      "98                                                                                                                                                                                                                                                                                                                         Been making some home made bread 🍞 xx  \n",
      "...                                                                                                                                                                                                                                                                                                                                                          ...  \n",
      "3577                                                                                                                                                                                                                                                                                                                                                         NaN  \n",
      "3581                                                                                                                                                                                                                                                                                                                                                         NaN  \n",
      "3582                                                                                                                                                                                                                                                                                                                                                         NaN  \n",
      "3583                                                                                                                                                                                                                                                                                                                                                         NaN  \n",
      "3589                                                                                                                                                                                                                                                                                                                                                         NaN  \n",
      "\n",
      "[732 rows x 3 columns]\n"
     ]
    }
   ],
   "source": [
    "#checking nan & NaN values\n",
    "nan_counts = df_clean['Post'].astype(str).str.lower().eq('nan').sum()\n",
    "nan_rows = df_clean[df_clean['Post'].astype(str).str.lower() == 'nan']\n",
    "\n",
    "NaN_counts = df_clean['Post'].astype(str).eq('NaN').sum()\n",
    "NaN_rows = df_clean[df_clean['Post'].astype(str) == 'NaN']\n",
    "\n",
    "print(\"Count of 'nan':\", nan_counts)\n",
    "print(\"Count of 'NaN':\", NaN_counts)\n",
    "\n",
    "combined_rows = pd.concat([nan_rows, NaN_rows])\n",
    "\n",
    "print(\"Rows containing 'nan' or 'NaN' in the 'Post' column:\")\n",
    "print(combined_rows)"
   ]
  },
  {
   "cell_type": "code",
   "execution_count": 11,
   "id": "1d5db08d",
   "metadata": {},
   "outputs": [
    {
     "name": "stdout",
     "output_type": "stream",
     "text": [
      "                                                                                                                                                                                                                                                                                                                                                                                                                                                                                                                                                                                                                                                                                                                                                                                                                                                                                                                                                                                                                                                                                                                                                                                                                                                                                                                                                                                                                                                                                                                                                                                                                                                                                                                                                                                                                                                                                                                                                                                                                                                                                                                                                                                                                                                                                                                                                                                                                                                                                                                                                                                                                                                                                                                                                                                                                                                                                                                                                                                                                                                                                                                                                                                                                                                                                                                                                                                                                                                                                                                                                                                                                                                                                                                                                                                                                                                                                                                                                                                                                                                                                                                                                                                                  Post  \\\n",
      "0                                                                                                                                                                                                                                                                                                                                                                                                                                                                                                                                                                                                                                                                                                                                                                                                                                                                                                                                                                                                                                                                                                                                                                                                                                                                                                                                                                                                                                                                                                                                                                                                                                                                                                                                                                                                                                                                                                                                                                                                                                                                                                                                                                                                                                                                                                                                                                                                                                                                                                                                                                                                                                                                                                                                                                                                                                                                                                                                                                                                                                                                                                                                                                                                                                                                                                                                                                                                                                                                                                                                                                                                                                                                                                                                                                                                                                                                                                                                                                                                                                 I feel like I’m a burden to everybody  bothering people with my problems & my existence. Moving to a different city & changing my number have been heavy on my mind.   \n",
      "1                                                                                                                                                                                                                                                                                                                                                                                                                                                                                                                                                                                                                                                                                                                                                                                                                                                                                                                                                                                                                                                                                                                                                                                                                                                                                                                                                                                                                                                                                                                                                                                                                                                                                                                                                                                                                                                                                                                                                                                                                                                                                                                                                                                                                                                                                                                                                                                                                                                                                                                                                                                                                                                                                                                                                                                                                                                                                                                                                                                                                                                                                                                                                                                                                                                                                                                                                                                                                                                                                                                                                                                                                                                                                                                                                                                                                                                                                                                                                                                                 This is what I'll be doing on Christmas. I just do not feel well. I just do not have it in me to fight  I've been doing it for 55 years. I'm just worn out. I do hope your Christmas will be better.   \n",
      "2                                                                                                                                                                                                                                                                                                                                                                                                                                                                                                                                                                                                                                                                                                                                                                                                                                                                                                                                                                                                                                                                                                                                                                                                                                                                                                                                                                                                                                                                                                                                                                                                                                                                                                                                                                                                                                                                                                                                                                                                                                                                                                                                                                                                                                                                                                                                                                                                                                                                                                                                                                                                                                                                                                                                                                                                                                                                                                                                                                                                                                                                                                                                                                                                                                                                                                                                                                                                                                                                                                                                                                                                                                                                                                                                                                                                                                                                                                                                                                                                                                                             Bye big hugs blessed be judge me all you want don't care.  After tonight my spouse thinks he's so wonderful well let's me make it real!!   \n",
      "3                                                                                                                                                                                                                                                                                                                                                                                                                                                                                                                                                                                                                                                                                                                                                                                                                                                                                                                                                                                                                                                                                                                                                                                                                                                                                                                                                                                                                                                                                                                                                                                                                                                                                                                                                                                                                                                                                                                                                                                                                                                                                                                                                                                                                                                                                                                                                                                                                                                                                                                                                                                                                                                                                                                                                                                                                                                                                                                                                                                                                                                                                                                                                                                                                                                                                                                                                                                                                                                                                                                                                                                                                                                                                                                                                                                                                                                                                                                                                                                                                                                                          I know this may be deemed a silly question but it's in my nature to ask  how is everyone feeling? Let's start a discussion.   \n",
      "4                                                                                                                                                                                                                                                                                                                                                                                                                                                                                                                                                                                                                                                                                                                                                                                                                                                                                                                                                                                                                                                                                                                                                                                                                                                                                                                                                                                                                                                                                                                                                                                                                                                                                                                                                                                                                                                                                                                                                                                                                                                                                                                                                                                                                                                                                                                                                                                                                                                                                                                                                                                                                                                                                                                                                                                                                                                                                                                                                                                                                                                                                                                                                                                                                                                                                                                                                                                                                                                                                                                                                                                                                                                                                                                                                                                                                                                                                                                                                                                                                                                                                                                                                   hi Steve, I thought you could use this sometimes 😊   \n",
      "...                                                                                                                                                                                                                                                                                                                                                                                                                                                                                                                                                                                                                                                                                                                                                                                                                                                                                                                                                                                                                                                                                                                                                                                                                                                                                                                                                                                                                                                                                                                                                                                                                                                                                                                                                                                                                                                                                                                                                                                                                                                                                                                                                                                                                                                                                                                                                                                                                                                                                                                                                                                                                                                                                                                                                                                                                                                                                                                                                                                                                                                                                                                                                                                                                                                                                                                                                                                                                                                                                                                                                                                                                                                                                                                                                                                                                                                                                                                                                                                                                                                                                                                                                                                                ...   \n",
      "3586                                                                                                                                                                                                                                                                                                                                                                                                                                                                                                                                                                                                                                                                                                                                                                                                                                                                                                                                                                                                                                                                                                                                                                                                                                                                                                                                                                                                                                                                                                                                                                                                                                                                                                                                                                                                                                                                                                                                                                                                                                                                                                                                                                                                                                                                                                                                                                                                                                                                                                                                                                                                                                                                                                                                                                                                                                                                                                                                                                                                                                                                                                                                                                                                                                                                                                                                                                                                                                                                                                                                                                                                                                                                                                                                                                                                                                                                                        Brain Gain Randburg Fourways \\nNeurofeedback therapy \\nWe help with \\nADHD \\nADD \\nConcentration span \\nPeak school and sport performance \\nHerman \\n082 385 3891\\nHerman@braingain.co.za \\nWww.braingain.co.za \\n\\n#Neurofeedback training visiting this page: http://bit.ly/2iJGZRv\\nLearn more!\\nHerman   \n",
      "3587                                                                                                                                                                                                                                                                                                                                                                                                                                                                                                                                                                                                                                                                                                                                                                                                                                                                                                                                                                                                                                                                                                                                                                                                                                                                                                                                                                                                                                                                                                                                                                                                                                                                                                                                                                                                                                                                                                                                                                                                                                                                                                                                                                                                                                                                                                                                                                                                                                                                                                                                                                                                                                                                                                                                                                                                                                                                                                                                                                                                                                                                                                                                                                                                                                                                                                                                                                                                                                                                                                                                                                                                                                                                                                                                                                                                                                                                                                                                                   Good day i got natural and organic and healthy product what i got and I use for my 5 year old son he is ADHD en he is cam and he is wonderful to have at home and i can recommend any mummy with a child with ADHD AND ADD  and it is fantastic   \n",
      "3588                                                                                                                                                                                                                                                                                                                                                                                                                                                                                                                                                                                                                                                                                                                                                                                                                                                                                                                                                                                                                                                                                                                                                                                                                                                                                                                                                                                                                                                                                                                                                                                                                                                                                                                                                                                                                                                                                                                                                                                                                                                                                                                                                                                                                                                                                                                                                                                                                                                                                                                                                                                                                                                                                                                                                                                                                                                                                                                                                                                                                                                                                                                                                                                                                                                                                                                                                        My ADHD brain...\\n\\nMe: I fancy a cuppa\\n*Fills up kettle and turns on*\\nBrain: Why don't we wash some dishes whilst we're in the kitchen? \\n*Starts washing dishes and forgets about kettle*\\nHalf an hour later ...\\nMe: Wait a minute I was making a cuppa.\\n*Turns on kettle, gets out mug*\\nBrain: Don't forget to give the rabbits their food.\\n*Goes to feed rabbits*\\nHalf an hour later ...\\nMe: Darn my cuppa!\\n*Turns on kettle, puts in teabag*\\nBrain: Whilst we're waiting let's go get that stuff out your bag*\\nHalf an hour later ...\\nMe: FFS my cuppa! Brain you are not defeating me this time!!\\n*Puts on kettle and stares at it until boiled. FINALLY makes cuppa*\\nMe: Ahhh finally! Let's sit down and read my magazine with my cuppa.\\nHalf an hour later ...\\nMe: *sigh* Cold tea it is then.\\n\\nWho can relate   \n",
      "3589                                                                                                                                                                                                                                                                                                                                                                                                                                                                                                                                                                                                                                                                                                                                                                                                                                                                                                                                                                                                                                                                                                                                                                                                                                                                                                                                                                                                                                                                                                                                                                                                                                                                                                                                                                                                                                                                                                                                                                                                                                                                                                                                                                                                                                                                                                                                                                                                                                                                                                                                                                                                                                                                                                                                                                                                                                                                                                                                                                                                                                                                                                                                                                                                                                                                                                                                                                                                                                                                                                                                                                                                                                                                                                                                                                                                                                                                                                                                                                                                                                                                                                                                                                                                 💖   \n",
      "3590  17 Things Your ADHD Child Would Tell You if He Could\\n\\n1) I'm trying way harder than you’ll ever know even though it doesn’t seem like it to you. I really, truly am.\\n\\n2) Criticizing me or getting angry at me that my brain doesn’t work better doesn’t help me. It makes me hate myself even more.\\n\\n3) I’m painfully aware of all the areas that I’m not measuring up. Instead of making a big deal about my shortcomings, try to find ways to help me.\\n\\n4) An accommodation isn’t the same as enabling. If you help me where I’m genuinely struggling, I’m going to be grateful. Don’t assume that I’m manipulating you.\\n\\n5) I’m not doing this to you; it’s not something I am doing on purpose.\\n\\n6) If you think it’s hard to live with me, imagine trying to live inside a body that won’t do what you want it to do.\\n\\n7) My brain doesn’t work right but I don’t know how to tell you that. It makes me angry and unkind, but I’m not trying to be that way.\\n\\n8) When I’m being horrible, what I really need is for you to tell me you’ll love me no matter what. And maybe hug me, too. I probably believe that I’m unlovable, so prove me wrong.\\n\\n9) I know that my lack of motivation is frustrating, but pushing harder doesn’t help me do better.\\n\\n10) My anger and frustration is a result of my brain not processing properly. When I’m overwhelmed and freaking out, don’t escalate by freaking out or getting angry too. I need you to be calm and show me that everything’s going to be fine even when I feel like it’s not.\\n\\n11) If I get overwhelmed, don’t expect me to sort out the problem all by myself. The part of my brain the controls regulation doesn’t work properly. That’s why I need your help to regulate.\\n\\n12) Don’t try to break me of things that you see as weaknesses. My sensitivity as a child means I’ll be compassionate as an adult. My stubbornness as a child means I’ll be independent and assertive as an adult. Instead of squashing these characteristics, channel them toward something good that can benefit me when I’m older. Don’t view me as something that needs fixed or toughened-up.\\n\\n13) Don’t be afraid of labeling me. A label gives me answers and help. If my condition is serious enough to need to be diagnosed, you can guarantee that I’ve noticed something’s wrong and I’m wondering why I’m different too. Unless you tell me what’s going on, I’m likely to grow up angry and confused about why everyone has it all together and I don’t. A label means I can get help; it gives me answers and vindication.\\n\\n14) I have a real, actual medical condition in my brain. It’s just as real as if I had Type 1 Diabetes. Just like Diabetes, I need help to deal with the condition. No one tells someone with Type 1 Diabetes that they are lazy if they’re tired because their blood sugar is low. They understand that it’s part of the condition. Please, please, please learn about my condition, and don’t blame me for things that are out of my control. Just like leaving Type 1 Diabetes untreated results in serious complications and even death, untreated ADHD can lead to serious complications –potentially including death. Thankfully, there are many ways to treat ADHD (and medication isn’t the only way).\\n\\n15) My frontal lobe is developing 30% behind normal. Please understand this and don’t put me in situations I’m not ready to handle. If you give me responsibility that’s beyond my developmental age, don’t be angry with me that I do poorly. That’s setting me up for failure, and that’s just cruel.\\n\\n16) Stop expecting me to be normal. I can’t be. Not for all my trying. Until you accept that, I’ll always be a failure in your eyes, and I’ll always view myself as not good enough.\\n\\n17) You have the power to make me miserable by how you treat me. Remember to treat me with love and grace. Treat me how you would want to be treated if you were struggling with a problem in your brain. I may make myself miserable sometimes, but don’t add to that by treating me poorly. When in doubt, be kind. Believe me, I need your kindness.   \n",
      "\n",
      "                                                                                                                                                                                                                                      1Comment  \\\n",
      "0                                                                                                                                                                            Best to talk to a therapist. It's too much for family and friends   \n",
      "1                                                                                                                                                        Give yourself a break from your negative thoughts. This is the day  the king is born.   \n",
      "2     I'm okay but mentally I'm not and I'm done putting up with all this...i will be okay when I disappear not dead just gone!! I've seriously had enough.  Thank you all for caring I do greatly appreciate it more than I can even express!   \n",
      "3                                                                                                                                                                                Restless. I personally think there's something else going on.   \n",
      "4                                                                                                                                                                                                                                            6   \n",
      "...                                                                                                                                                                                                                                        ...   \n",
      "3586                                                                                                                                                                                                               Hi Annelien, where are you?   \n",
      "3587                                                                                                                                                    Louise can u tell me more about this product please. im realy desprate to help my son.   \n",
      "3588                                                                                                                                                                                                                                        Me   \n",
      "3589                                                                                                                                                                                                                                         💖   \n",
      "3590                                                                                                                                                                                                                  Love this. Well written.   \n",
      "\n",
      "                                                                                                                                                                                                                                                                                                                                                                                                                                   2Comment  \n",
      "0                                                                                                                  I hear you.... I do. I want to do the same sometimes. But then I watch people and see who they are because I know I have a mental issue and I know my brain lies to me... Look around you.... Some people really do care.\\n\\nMaybe go to weekly mind meetings in the UK or groups local to you who all feel the same xxx  \n",
      "1                                                                                                                                                                                                                                                                                                                                                                                                            Same here. I know how you feel  \n",
      "2                                                                                                                                                                                                                                                                                                                                                                                                                               Are you OK?  \n",
      "3     I agree it's so hard to know what to know what to believe. The media have reputation of skewing the truth by means of escalating small amounts of truth. My best guess is to focus on multi-platform news like LBC radio. This essentially provides a balance view. Anyhow, the more we communicate with each other the better. This also provides the opportunity to gain a balanced view. Let's support each other through this. :)  \n",
      "4                                                                                                                                                                                                                                                                                                                                                                                                                                         5  \n",
      "...                                                                                                                                                                                                                                                                                                                                                                                                                                     ...  \n",
      "3586                                                                                                                                                                                                                                                                                                                                                                                                      We are in a few African countries  \n",
      "3587                                                                                                                                                                                                                                                                                                                                                                                                      Where ca I get it in Johannesburg  \n",
      "3588                                                                                                                                                                                                                                                                                                                                            Good morning, thank you for for add. After reading this, I know that I'm right at home 🤣🤣🤣🤣  \n",
      "3589                                                                                                                                                                                                                                                                                                                                                                                                                                    NaN  \n",
      "3590                                                                                                                                                                                                                                                                                                                                                                                                                                     😭😭  \n",
      "\n",
      "[3591 rows x 3 columns]\n"
     ]
    }
   ],
   "source": [
    "#replacing nan & NaN values\n",
    "for index, row in df_clean.iterrows():\n",
    "    if str(row['Post']).lower() in ['nan', 'NaN']:\n",
    "        if not pd.isna(row['1Comment']):\n",
    "            df_clean.at[index, 'Post'] = row['1Comment']\n",
    "        elif not pd.isna(row['2Comment']):\n",
    "            df_clean.at[index, 'Post'] = row['2Comment']\n",
    "\n",
    "print(df_clean)"
   ]
  },
  {
   "cell_type": "code",
   "execution_count": 12,
   "id": "cafa408f",
   "metadata": {},
   "outputs": [],
   "source": [
    "#converting to lowercase\n",
    "#df_clean['Post'] = df_clean['Post'].str.lower()\n",
    "df_clean = df_clean.applymap(lambda x: x.lower() if isinstance(x, str) else x)"
   ]
  },
  {
   "cell_type": "code",
   "execution_count": 13,
   "id": "8570be6b",
   "metadata": {},
   "outputs": [],
   "source": [
    "#remove url links\n",
    "def remove_urls (text):\n",
    "    if isinstance (text, str):\n",
    "        url_regexp = re.compile(r'https?://\\S+|www\\.\\S+')\n",
    "        return url_regexp.sub('', text)\n",
    "    else:\n",
    "        return text\n",
    "    \n",
    "df_clean['Post'] = df_clean['Post'].apply(remove_urls)\n",
    "#print(df_clean)"
   ]
  },
  {
   "cell_type": "code",
   "execution_count": 14,
   "id": "556f9506",
   "metadata": {},
   "outputs": [],
   "source": [
    "def remove_sites (text):\n",
    "    if isinstance (text, str):\n",
    "        site_regexp = re.compile(r\"www\\.[a-z]?\\.?(com)+|[a-z]+\\.(com)\")\n",
    "        return site_regexp.sub('', text)\n",
    "    else:\n",
    "        return text\n",
    "    \n",
    "df_clean['Post'] = df_clean['Post'].apply(remove_sites)\n",
    "#df_clean.iloc[1000: 2500]"
   ]
  },
  {
   "cell_type": "code",
   "execution_count": 15,
   "id": "ed0aa947",
   "metadata": {},
   "outputs": [],
   "source": [
    "#remove hashtags and split into individual word\n",
    "def dealwith_hashtags (text):\n",
    "    if isinstance (text, str):\n",
    "        hashtag_regexp = re.compile(r'#\\w+')\n",
    "        hashtags = hashtag_regexp.findall(text)\n",
    "        \n",
    "        for hashtag in hashtags:\n",
    "            words = re.findall(r'\\w+', hashtag)\n",
    "            split_hashtags = ' '.join(words[1: ])\n",
    "            text = text.replace(hashtag, split_hashtags)\n",
    "        return text\n",
    "    \n",
    "df_clean['Post'] = df_clean['Post'].apply(dealwith_hashtags)\n",
    "#df_clean.iloc[1000: 2500]"
   ]
  },
  {
   "cell_type": "code",
   "execution_count": null,
   "id": "638ef465",
   "metadata": {},
   "outputs": [],
   "source": [
    "#convert emoji into text only\n",
    "# import emoji\n",
    "\n",
    "# def convert_emoji_to_text (text):\n",
    "#     if isinstance (text, list):\n",
    "#         text = ' '.join(text)\n",
    "        \n",
    "#     if isinstance(text, str):\n",
    "#         textual_emoji = emoji.demojize(text)\n",
    "#         return textual_emoji\n",
    "#     else:\n",
    "#         return text\n",
    "\n",
    "# df_clean = df_clean.applymap(convert_emoji_to_text)\n",
    "# print(df_clean)"
   ]
  },
  {
   "cell_type": "code",
   "execution_count": 16,
   "id": "b8c0806c",
   "metadata": {},
   "outputs": [],
   "source": [
    "#convert emoji into text into individual words\n",
    "import emoji\n",
    "\n",
    "def convert_to_text_words (text):\n",
    "    if isinstance (text, list):\n",
    "        text = ' '.join(text)\n",
    "    \n",
    "    if isinstance (text, str):\n",
    "        textual_emoji = emoji.demojize(text)\n",
    "        words = re.findall(r':\\S+?:|[\\w]+', textual_emoji)\n",
    "        cleaned_words = [re.sub(r\"[^a-zA-Z]\", '', word) for word in words]\n",
    "        cleaned_words = [word for word in cleaned_words if word]\n",
    "        cleaned_text = ' '.join(cleaned_words)\n",
    "        return cleaned_text\n",
    "    else: \n",
    "        return text\n",
    "\n",
    "df_clean = df_clean.applymap(convert_to_text_words)\n",
    "#df_clean.tail()"
   ]
  },
  {
   "cell_type": "code",
   "execution_count": 17,
   "id": "92e08f44",
   "metadata": {},
   "outputs": [],
   "source": [
    "#remove character that are not letters\n",
    "def clean_text (text):\n",
    "    if isinstance (text, list):\n",
    "        text = ' '.join(text)\n",
    "    if isinstance (text, str):\n",
    "        unwanted_chars_regexp = re.compile(r\"[^a-z\\s\\(\\-:\\)\\\\\\/\\];='#]\", flags = re.IGNORECASE)\n",
    "        return re.sub(unwanted_chars_regexp, '', text)\n",
    "    else: \n",
    "        return text\n",
    "\n",
    "#df_clean['Post'] = df_clean['Post'].apply(clean_text)\n",
    "df_clean = df_clean.applymap(clean_text)\n",
    "#df_clean.iloc[1000: 2500]"
   ]
  },
  {
   "cell_type": "code",
   "execution_count": 18,
   "id": "72ada92f",
   "metadata": {},
   "outputs": [],
   "source": [
    "#remove unwanted specific word\n",
    "df_clean['Post'] = df_clean['Post'].apply(lambda x: x.replace('neurofeedback', ''))\n",
    "#df_clean.tail()"
   ]
  },
  {
   "cell_type": "code",
   "execution_count": 19,
   "id": "d64cd85c",
   "metadata": {
    "scrolled": true
   },
   "outputs": [],
   "source": [
    "#remove nan and blank cell in post\n",
    "df_clean = df_clean.replace('nan', np.nan)\n",
    "df_clean = df_clean.dropna(subset = ['Post'])\n",
    "df_clean.reset_index(drop = True, inplace = True)"
   ]
  },
  {
   "cell_type": "code",
   "execution_count": 21,
   "id": "d31cf7c5",
   "metadata": {},
   "outputs": [],
   "source": [
    "#store & save to a CSV file\n",
    "df_clean.to_csv('../Sample Datasets/clean_smsa_data.csv', index = False)"
   ]
  },
  {
   "cell_type": "code",
   "execution_count": null,
   "id": "8e3f1585",
   "metadata": {},
   "outputs": [],
   "source": []
  }
 ],
 "metadata": {
  "kernelspec": {
   "display_name": "Python 3 (ipykernel)",
   "language": "python",
   "name": "python3"
  },
  "language_info": {
   "codemirror_mode": {
    "name": "ipython",
    "version": 3
   },
   "file_extension": ".py",
   "mimetype": "text/x-python",
   "name": "python",
   "nbconvert_exporter": "python",
   "pygments_lexer": "ipython3",
   "version": "3.11.0"
  }
 },
 "nbformat": 4,
 "nbformat_minor": 5
}
